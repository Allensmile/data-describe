{
 "cells": [
  {
   "cell_type": "code",
   "execution_count": 2,
   "metadata": {},
   "outputs": [],
   "source": [
    "from presidio_analyzer import AnalyzerEngine\n",
    "import pandas as pd \n",
    "#! python -m spacy download en_core_web_lg\n",
    "from presidio_analyzer import RecognizerRegistry\n",
    "#from RecognizerRegistry import email_recognizer\n",
    "#from presidio_analyzer import predefined_recognizers\n",
    "#from presidio_analyzer.predefined_recognizers import EmailRecognizer\n",
    "#python -m spacy download en_core_web_lg\n",
    "#salt hash"
   ]
  },
  {
   "cell_type": "code",
   "execution_count": 3,
   "metadata": {},
   "outputs": [],
   "source": [
    "#python -m spacy download en_core_web_lg"
   ]
  },
  {
   "cell_type": "code",
   "execution_count": 4,
   "metadata": {},
   "outputs": [
    {
     "name": "stdout",
     "output_type": "stream",
     "text": [
      "[2020-06-05 13:06:44,452][presidio][INFO]nlp_engine not provided. Creating new SpacyNlpEngine instance\n",
      "[2020-06-05 13:06:44,727][presidio][INFO]Loading NLP model: spaCy en_core_web_lg\n",
      "[2020-06-05 13:06:55,996][presidio][INFO]Printing spaCy model and package details:\n",
      "\n",
      " {'lang': 'en', 'name': 'core_web_lg', 'license': 'MIT', 'author': 'Explosion', 'url': 'https://explosion.ai', 'email': 'contact@explosion.ai', 'description': 'English multi-task CNN trained on OntoNotes, with GloVe vectors trained on Common Crawl. Assigns word vectors, context-specific token vectors, POS tags, dependency parse and named entities.', 'sources': [{'name': 'OntoNotes 5', 'url': 'https://catalog.ldc.upenn.edu/LDC2013T19', 'license': 'commercial (licensed by Explosion)'}, {'name': 'Common Crawl'}], 'pipeline': ['tagger', 'parser', 'ner'], 'version': '2.2.5', 'spacy_version': '>=2.2.2', 'parent_package': 'spacy', 'accuracy': {'las': 90.1734441725, 'uas': 92.0132337105, 'token_acc': 99.7579930934, 'tags_acc': 97.2200800054, 'ents_f': 86.5464321721, 'ents_p': 86.7358967163, 'ents_r': 86.3577935506}, 'speed': {'cpu': 6257.754029418, 'gpu': None, 'nwords': 291314}, 'labels': {'tagger': ['$', \"''\", ',', '-LRB-', '-RRB-', '.', ':', 'ADD', 'AFX', 'CC', 'CD', 'DT', 'EX', 'FW', 'HYPH', 'IN', 'JJ', 'JJR', 'JJS', 'LS', 'MD', 'NFP', 'NN', 'NNP', 'NNPS', 'NNS', 'PDT', 'POS', 'PRP', 'PRP$', 'RB', 'RBR', 'RBS', 'RP', 'SYM', 'TO', 'UH', 'VB', 'VBD', 'VBG', 'VBN', 'VBP', 'VBZ', 'WDT', 'WP', 'WP$', 'WRB', 'XX', '_SP', '``'], 'parser': ['ROOT', 'acl', 'acomp', 'advcl', 'advmod', 'agent', 'amod', 'appos', 'attr', 'aux', 'auxpass', 'case', 'cc', 'ccomp', 'compound', 'conj', 'csubj', 'csubjpass', 'dative', 'dep', 'det', 'dobj', 'expl', 'intj', 'mark', 'meta', 'neg', 'nmod', 'npadvmod', 'nsubj', 'nsubjpass', 'nummod', 'oprd', 'parataxis', 'pcomp', 'pobj', 'poss', 'preconj', 'predet', 'prep', 'prt', 'punct', 'quantmod', 'relcl', 'xcomp'], 'ner': ['CARDINAL', 'DATE', 'EVENT', 'FAC', 'GPE', 'LANGUAGE', 'LAW', 'LOC', 'MONEY', 'NORP', 'ORDINAL', 'ORG', 'PERCENT', 'PERSON', 'PRODUCT', 'QUANTITY', 'TIME', 'WORK_OF_ART']}, 'vectors': {'width': 300, 'vectors': 684831, 'keys': 684830, 'name': 'en_core_web_lg.vectors'}, 'source': '/Users/richardtruong-chau/miniconda3/envs/mw-data_describe/lib/python3.7/site-packages/en_core_web_lg'}\n",
      "\n",
      "\n",
      "[2020-06-05 13:06:55,997][presidio][INFO]Recognizer registry not provided. Creating default RecognizerRegistry instance\n",
      "[2020-06-05 13:06:55,998][presidio][INFO]Loaded recognizer: CreditCardRecognizer\n",
      "[2020-06-05 13:06:55,999][presidio][INFO]Loaded recognizer: CryptoRecognizer\n",
      "[2020-06-05 13:06:55,999][presidio][INFO]Loaded recognizer: DomainRecognizer\n",
      "[2020-06-05 13:06:56,000][presidio][INFO]Loaded recognizer: EmailRecognizer\n",
      "[2020-06-05 13:06:56,000][presidio][INFO]Loaded recognizer: IbanRecognizer\n",
      "[2020-06-05 13:06:56,001][presidio][INFO]Loaded recognizer: IpRecognizer\n",
      "[2020-06-05 13:06:56,002][presidio][INFO]Loaded recognizer: NhsRecognizer\n",
      "[2020-06-05 13:06:56,003][presidio][INFO]Loaded recognizer: UsBankRecognizer\n",
      "[2020-06-05 13:06:56,003][presidio][INFO]Loaded recognizer: UsLicenseRecognizer\n",
      "[2020-06-05 13:06:56,004][presidio][INFO]Loaded recognizer: UsItinRecognizer\n",
      "[2020-06-05 13:06:56,005][presidio][INFO]Loaded recognizer: UsPassportRecognizer\n",
      "[2020-06-05 13:06:56,006][presidio][INFO]Loaded recognizer: UsPhoneRecognizer\n",
      "[2020-06-05 13:06:56,007][presidio][INFO]Loaded recognizer: UsSsnRecognizer\n",
      "[2020-06-05 13:06:56,007][presidio][INFO]Loaded recognizer: SpacyRecognizer\n",
      "[2020-06-05 13:06:56,008][presidio][INFO]Loaded recognizer: SgFinRecognizer\n"
     ]
    }
   ],
   "source": [
    "%%capture\n",
    "engine = AnalyzerEngine(default_score_threshold=0, enable_trace_pii=True)\n"
   ]
  },
  {
   "cell_type": "markdown",
   "metadata": {},
   "source": [
    "# Create Fake data "
   ]
  },
  {
   "cell_type": "code",
   "execution_count": 7,
   "metadata": {},
   "outputs": [],
   "source": [
    "from faker import Faker"
   ]
  },
  {
   "cell_type": "code",
   "execution_count": 8,
   "metadata": {},
   "outputs": [
    {
     "data": {
      "text/plain": [
       "{'job': 'Research scientist (life sciences)',\n",
       " 'company': 'Jones-Dennis',\n",
       " 'ssn': '503-46-3487',\n",
       " 'residence': '83053 Todd Forest Apt. 718\\nWest Kimberlyside, SC 32354',\n",
       " 'current_location': (Decimal('38.356150'), Decimal('-160.372951')),\n",
       " 'blood_group': 'O-',\n",
       " 'website': ['https://mccullough.org/',\n",
       "  'https://lawson.com/',\n",
       "  'http://morales-gardner.com/',\n",
       "  'http://adkins-ford.com/'],\n",
       " 'username': 'loliver',\n",
       " 'name': 'Jacob Bartlett',\n",
       " 'sex': 'M',\n",
       " 'address': '55475 Tracy Street Suite 749\\nHansenmouth, CO 14787',\n",
       " 'mail': 'ymorris@yahoo.com',\n",
       " 'birthdate': datetime.date(1991, 6, 12)}"
      ]
     },
     "execution_count": 8,
     "metadata": {},
     "output_type": "execute_result"
    }
   ],
   "source": [
    "fake = Faker()\n",
    "fake.profile()"
   ]
  },
  {
   "cell_type": "code",
   "execution_count": 9,
   "metadata": {},
   "outputs": [
    {
     "data": {
      "text/html": [
       "<div>\n",
       "<style scoped>\n",
       "    .dataframe tbody tr th:only-of-type {\n",
       "        vertical-align: middle;\n",
       "    }\n",
       "\n",
       "    .dataframe tbody tr th {\n",
       "        vertical-align: top;\n",
       "    }\n",
       "\n",
       "    .dataframe thead th {\n",
       "        text-align: right;\n",
       "    }\n",
       "</style>\n",
       "<table border=\"1\" class=\"dataframe\">\n",
       "  <thead>\n",
       "    <tr style=\"text-align: right;\">\n",
       "      <th></th>\n",
       "      <th>address</th>\n",
       "      <th>birthdate</th>\n",
       "      <th>blood_group</th>\n",
       "      <th>company</th>\n",
       "      <th>current_location</th>\n",
       "      <th>job</th>\n",
       "      <th>mail</th>\n",
       "      <th>name</th>\n",
       "      <th>residence</th>\n",
       "      <th>sex</th>\n",
       "      <th>ssn</th>\n",
       "      <th>username</th>\n",
       "      <th>website</th>\n",
       "    </tr>\n",
       "  </thead>\n",
       "  <tbody>\n",
       "    <tr>\n",
       "      <th>0</th>\n",
       "      <td>0159 Joseph Stravenue\\nNorth Cassandra, AR 15195</td>\n",
       "      <td>1952-10-20</td>\n",
       "      <td>O-</td>\n",
       "      <td>Oneill LLC</td>\n",
       "      <td>(-5.7738285, 70.635335)</td>\n",
       "      <td>Operational investment banker</td>\n",
       "      <td>emily52@yahoo.com</td>\n",
       "      <td>Donna Mayo</td>\n",
       "      <td>70964 Villanueva Street Suite 047\\nNew Michael...</td>\n",
       "      <td>F</td>\n",
       "      <td>009-14-5245</td>\n",
       "      <td>millerruben</td>\n",
       "      <td>[https://smith.com/]</td>\n",
       "    </tr>\n",
       "    <tr>\n",
       "      <th>1</th>\n",
       "      <td>0582 Garcia Path\\nJenniferbury, SD 01512</td>\n",
       "      <td>1962-12-19</td>\n",
       "      <td>AB-</td>\n",
       "      <td>Brown, Carpenter and Scott</td>\n",
       "      <td>(75.7079875, 120.988975)</td>\n",
       "      <td>Surveyor, rural practice</td>\n",
       "      <td>gvalencia@yahoo.com</td>\n",
       "      <td>William Barnes</td>\n",
       "      <td>89624 Padilla Camp Suite 481\\nWest Elizabeth, ...</td>\n",
       "      <td>M</td>\n",
       "      <td>865-53-0280</td>\n",
       "      <td>melvin06</td>\n",
       "      <td>[https://park-foster.com/, http://www.clark.biz/]</td>\n",
       "    </tr>\n",
       "    <tr>\n",
       "      <th>2</th>\n",
       "      <td>8689 Walker Island Apt. 627\\nEast Crystalfort,...</td>\n",
       "      <td>2009-10-29</td>\n",
       "      <td>A-</td>\n",
       "      <td>Ayers-Coleman</td>\n",
       "      <td>(78.784393, -156.462782)</td>\n",
       "      <td>Volunteer coordinator</td>\n",
       "      <td>saustin@gmail.com</td>\n",
       "      <td>Jason Cunningham</td>\n",
       "      <td>82732 Owens Tunnel\\nNorth Amberburgh, FL 73795</td>\n",
       "      <td>M</td>\n",
       "      <td>429-72-3294</td>\n",
       "      <td>michaellopez</td>\n",
       "      <td>[http://www.clark.com/, https://www.clark.net/...</td>\n",
       "    </tr>\n",
       "    <tr>\n",
       "      <th>3</th>\n",
       "      <td>USNV Carpenter\\nFPO AE 88711</td>\n",
       "      <td>1915-10-05</td>\n",
       "      <td>AB+</td>\n",
       "      <td>Owens, Sanchez and Martin</td>\n",
       "      <td>(33.133429, -162.401107)</td>\n",
       "      <td>Conservation officer, nature</td>\n",
       "      <td>grodriguez@hotmail.com</td>\n",
       "      <td>Michael Oconnor</td>\n",
       "      <td>637 Proctor Greens\\nReginamouth, MI 54825</td>\n",
       "      <td>M</td>\n",
       "      <td>545-27-5969</td>\n",
       "      <td>feliciairwin</td>\n",
       "      <td>[https://www.fisher.info/, https://www.salazar...</td>\n",
       "    </tr>\n",
       "  </tbody>\n",
       "</table>\n",
       "</div>"
      ],
      "text/plain": [
       "                                             address   birthdate blood_group  \\\n",
       "0   0159 Joseph Stravenue\\nNorth Cassandra, AR 15195  1952-10-20          O-   \n",
       "1           0582 Garcia Path\\nJenniferbury, SD 01512  1962-12-19         AB-   \n",
       "2  8689 Walker Island Apt. 627\\nEast Crystalfort,...  2009-10-29          A-   \n",
       "3                       USNV Carpenter\\nFPO AE 88711  1915-10-05         AB+   \n",
       "\n",
       "                      company          current_location  \\\n",
       "0                  Oneill LLC   (-5.7738285, 70.635335)   \n",
       "1  Brown, Carpenter and Scott  (75.7079875, 120.988975)   \n",
       "2               Ayers-Coleman  (78.784393, -156.462782)   \n",
       "3   Owens, Sanchez and Martin  (33.133429, -162.401107)   \n",
       "\n",
       "                             job                    mail              name  \\\n",
       "0  Operational investment banker       emily52@yahoo.com        Donna Mayo   \n",
       "1       Surveyor, rural practice     gvalencia@yahoo.com    William Barnes   \n",
       "2          Volunteer coordinator       saustin@gmail.com  Jason Cunningham   \n",
       "3   Conservation officer, nature  grodriguez@hotmail.com   Michael Oconnor   \n",
       "\n",
       "                                           residence sex          ssn  \\\n",
       "0  70964 Villanueva Street Suite 047\\nNew Michael...   F  009-14-5245   \n",
       "1  89624 Padilla Camp Suite 481\\nWest Elizabeth, ...   M  865-53-0280   \n",
       "2     82732 Owens Tunnel\\nNorth Amberburgh, FL 73795   M  429-72-3294   \n",
       "3          637 Proctor Greens\\nReginamouth, MI 54825   M  545-27-5969   \n",
       "\n",
       "       username                                            website  \n",
       "0   millerruben                               [https://smith.com/]  \n",
       "1      melvin06  [https://park-foster.com/, http://www.clark.biz/]  \n",
       "2  michaellopez  [http://www.clark.com/, https://www.clark.net/...  \n",
       "3  feliciairwin  [https://www.fisher.info/, https://www.salazar...  "
      ]
     },
     "execution_count": 9,
     "metadata": {},
     "output_type": "execute_result"
    }
   ],
   "source": [
    "df = pd.DataFrame([fake.profile(), fake.profile(), fake.profile(), fake.profile()])\n",
    "df"
   ]
  },
  {
   "cell_type": "markdown",
   "metadata": {},
   "source": [
    "## Cases\n",
    "Assumptions:\n",
    "    - Data comes in as a table\n",
    "    - The client wants to identify all possible PII. You should never do analytics on it.\n",
    "\n",
    "1. The client knows which specific columns have PII\n",
    "    - We can identify each case, redact it, and/or anonymize it\n",
    "\n",
    "2. The client wants to find out all possible PII\n",
    "    - We can identify each case, redact it, and/or anonymize it\n"
   ]
  },
  {
   "cell_type": "markdown",
   "metadata": {},
   "source": [
    "## Automatic Detection"
   ]
  },
  {
   "cell_type": "code",
   "execution_count": 10,
   "metadata": {},
   "outputs": [],
   "source": [
    "# import \"entities\"\n",
    "from presidio_analyzer.predefined_recognizers import EmailRecognizer\n",
    "from functools import reduce\n"
   ]
  },
  {
   "cell_type": "code",
   "execution_count": 17,
   "metadata": {},
   "outputs": [
    {
     "name": "stdout",
     "output_type": "stream",
     "text": [
      "Start = 0, end = 20, entity = EMAIL_ADDRESS, confidence = 1.0\n",
      "Start = 11, end = 20, entity = DOMAIN_NAME, confidence = 1.0\n"
     ]
    }
   ],
   "source": [
    "text = \"rtcrichard@gmail.com \"\n",
    "\n",
    "response = engine.analyze(correlation_id=0,\n",
    "                          text = text,\n",
    "                          entities=[],\n",
    "                          language='en',\n",
    "                          all_fields=True,\n",
    "                          score_threshold=0)\n",
    "\n",
    "for item in response:\n",
    "    print(\"Start = {}, end = {}, entity = {}, confidence = {}\".format(item.start,\n",
    "                                                                      item.end,\n",
    "                                                                      item.entity_type,\n",
    "                                                                      item.score))"
   ]
  },
  {
   "cell_type": "code",
   "execution_count": 33,
   "metadata": {},
   "outputs": [],
   "source": [
    "def identify_pii(text):\n",
    "    response = engine.analyze(correlation_id=0, text = text, entities=[], language='en', all_fields=True, score_threshold=0.85)    \n",
    "    return response"
   ]
  },
  {
   "cell_type": "code",
   "execution_count": 34,
   "metadata": {},
   "outputs": [
    {
     "data": {
      "text/plain": [
       "[type: EMAIL_ADDRESS, start: 46, end: 66, score: 1.0,\n",
       " type: DOMAIN_NAME, start: 57, end: 66, score: 1.0,\n",
       " type: PERSON, start: 11, end: 16, score: 0.85,\n",
       " type: PERSON, start: 68, end: 73, score: 0.85]"
      ]
     },
     "execution_count": 34,
     "metadata": {},
     "output_type": "execute_result"
    }
   ],
   "source": [
    "response"
   ]
  },
  {
   "cell_type": "markdown",
   "metadata": {},
   "source": [
    "## Redact information"
   ]
  },
  {
   "cell_type": "code",
   "execution_count": 25,
   "metadata": {},
   "outputs": [
    {
     "name": "stdout",
     "output_type": "stream",
     "text": [
      "My name is David and I am hungry. My email is rtcrichard@gmail.com, David\n"
     ]
    },
    {
     "data": {
      "text/plain": [
       "[type: EMAIL_ADDRESS, start: 46, end: 66, score: 1.0,\n",
       " type: DOMAIN_NAME, start: 57, end: 66, score: 1.0,\n",
       " type: PERSON, start: 11, end: 16, score: 0.85,\n",
       " type: PERSON, start: 68, end: 73, score: 0.85]"
      ]
     },
     "execution_count": 25,
     "metadata": {},
     "output_type": "execute_result"
    }
   ],
   "source": [
    "text = 'My name is David and I am hungry. My email is rtcrichard@gmail.com, David'\n",
    "response = identify_pii(text)\n",
    "print(text)\n",
    "response"
   ]
  },
  {
   "cell_type": "code",
   "execution_count": 67,
   "metadata": {},
   "outputs": [],
   "source": [
    "def create_mapping(text):\n",
    "    response = identify_pii(text)\n",
    "    word_mapping = {}\n",
    "    for r in response:\n",
    "        word_mapping[text[r.start : r.end]] = str(\"<\" + r.entity_type + \">\")\n",
    "    return word_mapping"
   ]
  },
  {
   "cell_type": "code",
   "execution_count": 68,
   "metadata": {},
   "outputs": [],
   "source": [
    "def redact_info(text):\n",
    "    word_mapping = create_mapping(text)\n",
    "    return reduce(lambda a, kv: a.replace(*kv), word_mapping.items(), text)"
   ]
  },
  {
   "cell_type": "code",
   "execution_count": 69,
   "metadata": {},
   "outputs": [
    {
     "data": {
      "text/plain": [
       "'My name is <PERSON> and I am hungry. My email is <EMAIL_ADDRESS>, <PERSON>'"
      ]
     },
     "execution_count": 69,
     "metadata": {},
     "output_type": "execute_result"
    }
   ],
   "source": [
    "redact_info(text)"
   ]
  },
  {
   "cell_type": "code",
   "execution_count": 71,
   "metadata": {},
   "outputs": [
    {
     "data": {
      "text/html": [
       "<div>\n",
       "<style scoped>\n",
       "    .dataframe tbody tr th:only-of-type {\n",
       "        vertical-align: middle;\n",
       "    }\n",
       "\n",
       "    .dataframe tbody tr th {\n",
       "        vertical-align: top;\n",
       "    }\n",
       "\n",
       "    .dataframe thead th {\n",
       "        text-align: right;\n",
       "    }\n",
       "</style>\n",
       "<table border=\"1\" class=\"dataframe\">\n",
       "  <thead>\n",
       "    <tr style=\"text-align: right;\">\n",
       "      <th></th>\n",
       "      <th>address</th>\n",
       "      <th>birthdate</th>\n",
       "      <th>blood_group</th>\n",
       "      <th>company</th>\n",
       "      <th>current_location</th>\n",
       "      <th>job</th>\n",
       "      <th>mail</th>\n",
       "      <th>name</th>\n",
       "      <th>residence</th>\n",
       "      <th>sex</th>\n",
       "      <th>ssn</th>\n",
       "      <th>username</th>\n",
       "      <th>website</th>\n",
       "    </tr>\n",
       "  </thead>\n",
       "  <tbody>\n",
       "    <tr>\n",
       "      <th>0</th>\n",
       "      <td>&lt;DATE_TIME&gt; &lt;PERSON&gt; Village\\n&lt;LOCATION&gt;, AZ 2...</td>\n",
       "      <td>&lt;DATE_TIME&gt;</td>\n",
       "      <td>O-</td>\n",
       "      <td>&lt;PERSON&gt;</td>\n",
       "      <td>(&lt;LOCATION&gt;'), Decimal('82.999805'))</td>\n",
       "      <td>Learning disability nurse</td>\n",
       "      <td>&lt;EMAIL_ADDRESS&gt;</td>\n",
       "      <td>&lt;PERSON&gt;</td>\n",
       "      <td>USCGC Sanchez\\nFPO AA 40181</td>\n",
       "      <td>F</td>\n",
       "      <td>585-01-1007</td>\n",
       "      <td>mhaynes</td>\n",
       "      <td>['https://&lt;DOMAIN_NAME&gt;/']</td>\n",
       "    </tr>\n",
       "    <tr>\n",
       "      <th>1</th>\n",
       "      <td>638 Wells Prairie\\n&lt;LOCATION&gt;, OR 89816</td>\n",
       "      <td>&lt;DATE_TIME&gt;</td>\n",
       "      <td>A-</td>\n",
       "      <td>&lt;PERSON&gt;</td>\n",
       "      <td>(Decimal('-55.162483'), &lt;PERSON&gt;'))</td>\n",
       "      <td>Science writer</td>\n",
       "      <td>&lt;EMAIL_ADDRESS&gt;</td>\n",
       "      <td>&lt;PERSON&gt;</td>\n",
       "      <td>36617 Leah Locks\\n&lt;PERSON&gt;, &lt;LOCATION&gt; 69812</td>\n",
       "      <td>M</td>\n",
       "      <td>561-13-4352</td>\n",
       "      <td>ldavidson</td>\n",
       "      <td>['https://&lt;DOMAIN_NAME&gt;/', 'http://&lt;DOMAIN_NAM...</td>\n",
       "    </tr>\n",
       "    <tr>\n",
       "      <th>2</th>\n",
       "      <td>973 John Spring Suite 959\\n&lt;PERSON&gt;, IA 26014</td>\n",
       "      <td>&lt;DATE_TIME&gt;</td>\n",
       "      <td>O+</td>\n",
       "      <td>&lt;PERSON&gt;</td>\n",
       "      <td>(Decimal('-51.762098'), Decimal('-122.061227'))</td>\n",
       "      <td>Research scientist (medical)</td>\n",
       "      <td>&lt;EMAIL_ADDRESS&gt;</td>\n",
       "      <td>&lt;PERSON&gt;</td>\n",
       "      <td>18892 Cobb Ridges Apt. 843\\n&lt;LOCATION&gt;, KY 76030</td>\n",
       "      <td>F</td>\n",
       "      <td>431-41-6297</td>\n",
       "      <td>carolynbrown</td>\n",
       "      <td>['https://&lt;DOMAIN_NAME&gt;/', 'http://&lt;DOMAIN_NAM...</td>\n",
       "    </tr>\n",
       "    <tr>\n",
       "      <th>3</th>\n",
       "      <td>&lt;PERSON&gt;\\n&lt;PERSON&gt;, &lt;DATE_TIME&gt;</td>\n",
       "      <td>&lt;DATE_TIME&gt;</td>\n",
       "      <td>O+</td>\n",
       "      <td>&lt;PERSON&gt;</td>\n",
       "      <td>(Decimal('55.204783'), Decimal('108.359621'))</td>\n",
       "      <td>Pension scheme manager</td>\n",
       "      <td>&lt;EMAIL_ADDRESS&gt;</td>\n",
       "      <td>&lt;PERSON&gt;</td>\n",
       "      <td>46252 &lt;LOCATION&gt;&lt;LOCATION&gt;, &lt;LOCATION&gt; &lt;DATE_T...</td>\n",
       "      <td>M</td>\n",
       "      <td>497-42-0685</td>\n",
       "      <td>wilcoxsarah</td>\n",
       "      <td>['https://&lt;DOMAIN_NAME&gt;/', 'https://&lt;DOMAIN_NA...</td>\n",
       "    </tr>\n",
       "  </tbody>\n",
       "</table>\n",
       "</div>"
      ],
      "text/plain": [
       "                                             address    birthdate blood_group  \\\n",
       "0  <DATE_TIME> <PERSON> Village\\n<LOCATION>, AZ 2...  <DATE_TIME>          O-   \n",
       "1            638 Wells Prairie\\n<LOCATION>, OR 89816  <DATE_TIME>          A-   \n",
       "2      973 John Spring Suite 959\\n<PERSON>, IA 26014  <DATE_TIME>          O+   \n",
       "3                    <PERSON>\\n<PERSON>, <DATE_TIME>  <DATE_TIME>          O+   \n",
       "\n",
       "    company                                 current_location  \\\n",
       "0  <PERSON>             (<LOCATION>'), Decimal('82.999805'))   \n",
       "1  <PERSON>              (Decimal('-55.162483'), <PERSON>'))   \n",
       "2  <PERSON>  (Decimal('-51.762098'), Decimal('-122.061227'))   \n",
       "3  <PERSON>    (Decimal('55.204783'), Decimal('108.359621'))   \n",
       "\n",
       "                            job             mail      name  \\\n",
       "0     Learning disability nurse  <EMAIL_ADDRESS>  <PERSON>   \n",
       "1                Science writer  <EMAIL_ADDRESS>  <PERSON>   \n",
       "2  Research scientist (medical)  <EMAIL_ADDRESS>  <PERSON>   \n",
       "3        Pension scheme manager  <EMAIL_ADDRESS>  <PERSON>   \n",
       "\n",
       "                                           residence sex          ssn  \\\n",
       "0                        USCGC Sanchez\\nFPO AA 40181   F  585-01-1007   \n",
       "1       36617 Leah Locks\\n<PERSON>, <LOCATION> 69812   M  561-13-4352   \n",
       "2   18892 Cobb Ridges Apt. 843\\n<LOCATION>, KY 76030   F  431-41-6297   \n",
       "3  46252 <LOCATION><LOCATION>, <LOCATION> <DATE_T...   M  497-42-0685   \n",
       "\n",
       "       username                                            website  \n",
       "0       mhaynes                         ['https://<DOMAIN_NAME>/']  \n",
       "1     ldavidson  ['https://<DOMAIN_NAME>/', 'http://<DOMAIN_NAM...  \n",
       "2  carolynbrown  ['https://<DOMAIN_NAME>/', 'http://<DOMAIN_NAM...  \n",
       "3   wilcoxsarah  ['https://<DOMAIN_NAME>/', 'https://<DOMAIN_NA...  "
      ]
     },
     "execution_count": 71,
     "metadata": {},
     "output_type": "execute_result"
    }
   ],
   "source": [
    "df_redact = df.applymap(lambda x: redact_info(str(x)))\n",
    "df_redact"
   ]
  },
  {
   "cell_type": "code",
   "execution_count": null,
   "metadata": {},
   "outputs": [],
   "source": []
  },
  {
   "cell_type": "markdown",
   "metadata": {},
   "source": [
    "## Anonymize data using Faker"
   ]
  },
  {
   "cell_type": "code",
   "execution_count": 76,
   "metadata": {},
   "outputs": [
    {
     "data": {
      "text/plain": [
       "{'rtcrichard@gmail.com': '<EMAIL_ADDRESS>',\n",
       " 'gmail.com': '<DOMAIN_NAME>',\n",
       " 'David': '<PERSON>'}"
      ]
     },
     "execution_count": 76,
     "metadata": {},
     "output_type": "execute_result"
    }
   ],
   "source": [
    "word_mapping = create_mapping(text)\n",
    "word_mapping"
   ]
  },
  {
   "cell_type": "code",
   "execution_count": 78,
   "metadata": {},
   "outputs": [],
   "source": [
    "from sklearn.feature_extraction import FeatureHasher\n",
    "from sklearn.feature_extraction.text import HashingVectorizer\n",
    "from collections import defaultdict\n"
   ]
  },
  {
   "cell_type": "code",
   "execution_count": 79,
   "metadata": {},
   "outputs": [],
   "source": [
    "def anonymize_name(data):\n",
    "    names  = defaultdict(fake.name)\n",
    "    for d in data:\n",
    "        names[d]\n",
    "    return names\n"
   ]
  },
  {
   "cell_type": "code",
   "execution_count": 80,
   "metadata": {},
   "outputs": [
    {
     "data": {
      "text/plain": [
       "defaultdict(<bound method Provider.name of <faker.providers.person.en_US.Provider object at 0x7f8e838f8da0>>,\n",
       "            {'richard': 'Derrick Mitchell',\n",
       "             'bob': 'Matthew Powers',\n",
       "             'anna': 'William Garza'})"
      ]
     },
     "execution_count": 80,
     "metadata": {},
     "output_type": "execute_result"
    }
   ],
   "source": [
    "x = anonymize_name(['richard','bob', 'anna'])\n",
    "x"
   ]
  },
  {
   "cell_type": "code",
   "execution_count": 81,
   "metadata": {},
   "outputs": [
    {
     "data": {
      "text/plain": [
       "'rochaangela@hotmail.com'"
      ]
     },
     "execution_count": 81,
     "metadata": {},
     "output_type": "execute_result"
    }
   ],
   "source": [
    "fake.email()"
   ]
  },
  {
   "cell_type": "code",
   "execution_count": 82,
   "metadata": {},
   "outputs": [
    {
     "data": {
      "text/html": [
       "<div>\n",
       "<style scoped>\n",
       "    .dataframe tbody tr th:only-of-type {\n",
       "        vertical-align: middle;\n",
       "    }\n",
       "\n",
       "    .dataframe tbody tr th {\n",
       "        vertical-align: top;\n",
       "    }\n",
       "\n",
       "    .dataframe thead th {\n",
       "        text-align: right;\n",
       "    }\n",
       "</style>\n",
       "<table border=\"1\" class=\"dataframe\">\n",
       "  <thead>\n",
       "    <tr style=\"text-align: right;\">\n",
       "      <th></th>\n",
       "      <th>address</th>\n",
       "      <th>birthdate</th>\n",
       "      <th>blood_group</th>\n",
       "      <th>company</th>\n",
       "      <th>current_location</th>\n",
       "      <th>job</th>\n",
       "      <th>mail</th>\n",
       "      <th>name</th>\n",
       "      <th>residence</th>\n",
       "      <th>sex</th>\n",
       "      <th>ssn</th>\n",
       "      <th>username</th>\n",
       "      <th>website</th>\n",
       "    </tr>\n",
       "  </thead>\n",
       "  <tbody>\n",
       "    <tr>\n",
       "      <th>0</th>\n",
       "      <td>971 Summers Mountains\\nMarshallland, OH 06583</td>\n",
       "      <td>2008-10-24</td>\n",
       "      <td>O-</td>\n",
       "      <td>Mills-Hanson</td>\n",
       "      <td>(77.601293, -132.151889)</td>\n",
       "      <td>Hospital pharmacist</td>\n",
       "      <td>mcdonaldbarbara@yahoo.com</td>\n",
       "      <td>Joe Miller</td>\n",
       "      <td>4678 Andrews Stream Apt. 082\\nCooleyhaven, NH ...</td>\n",
       "      <td>M</td>\n",
       "      <td>600-14-7323</td>\n",
       "      <td>khunter</td>\n",
       "      <td>[http://bishop.com/, http://www.lowery.com/, h...</td>\n",
       "    </tr>\n",
       "  </tbody>\n",
       "</table>\n",
       "</div>"
      ],
      "text/plain": [
       "                                         address   birthdate blood_group  \\\n",
       "0  971 Summers Mountains\\nMarshallland, OH 06583  2008-10-24          O-   \n",
       "\n",
       "        company          current_location                  job  \\\n",
       "0  Mills-Hanson  (77.601293, -132.151889)  Hospital pharmacist   \n",
       "\n",
       "                        mail        name  \\\n",
       "0  mcdonaldbarbara@yahoo.com  Joe Miller   \n",
       "\n",
       "                                           residence sex          ssn  \\\n",
       "0  4678 Andrews Stream Apt. 082\\nCooleyhaven, NH ...   M  600-14-7323   \n",
       "\n",
       "  username                                            website  \n",
       "0  khunter  [http://bishop.com/, http://www.lowery.com/, h...  "
      ]
     },
     "execution_count": 82,
     "metadata": {},
     "output_type": "execute_result"
    }
   ],
   "source": [
    "df = pd.DataFrame([fake.profile(), fake.profile(), fake.profile(), fake.profile()])\n",
    "df.head(1)"
   ]
  },
  {
   "cell_type": "code",
   "execution_count": null,
   "metadata": {},
   "outputs": [],
   "source": [
    "##### Notes from david\n",
    "#sampele portion of df and run test if cells in each column is an infotype \n",
    "# plugin to pandas. df.infotypes \n",
    "# defin infotype as classes\n",
    "\n",
    "# anonymize: map each senstive values to a hex id. \n",
    "#second level. Take the recoded value and generate fake data for the anonymized data\n",
    "#redaction \n",
    "#set up with abstract framework. plugins "
   ]
  },
  {
   "cell_type": "markdown",
   "metadata": {},
   "source": [
    "## Pipe predefined recopgnizers "
   ]
  },
  {
   "cell_type": "code",
   "execution_count": 89,
   "metadata": {},
   "outputs": [],
   "source": [
    "from presidio_analyzer.predefined_recognizers import EmailRecognizer\n",
    "from presidio_analyzer import entity_recognizer"
   ]
  },
  {
   "cell_type": "code",
   "execution_count": 90,
   "metadata": {},
   "outputs": [],
   "source": [
    "result = engine.analyze(text='rtcr@gmail.com', language='en', all_fields=True)"
   ]
  },
  {
   "cell_type": "code",
   "execution_count": 91,
   "metadata": {},
   "outputs": [
    {
     "data": {
      "text/plain": [
       "[type: EMAIL_ADDRESS, start: 0, end: 14, score: 1.0,\n",
       " type: DOMAIN_NAME, start: 5, end: 14, score: 1.0]"
      ]
     },
     "execution_count": 91,
     "metadata": {},
     "output_type": "execute_result"
    }
   ],
   "source": [
    "result"
   ]
  },
  {
   "cell_type": "code",
   "execution_count": 92,
   "metadata": {},
   "outputs": [],
   "source": [
    "class InfoType(object):\n",
    "    \"\"\"Base infotype\"\"\"\n",
    "    \n",
    "    def __init__(self):\n",
    "        \"\"\"A class to test for infotypes\n",
    "\n",
    "        Args:\n",
    "            name: The name for the desired infotype \n",
    "        \"\"\"\n",
    "        #self.__text__ = text\n",
    "        #self.__entities__ = entities\n",
    "        #self.__all_fields__ = all_fields\n",
    "        #self._identifier_ = identifier\n",
    "\n",
    "        \n",
    "    @property\n",
    "    def text(self):\n",
    "        \"\"\"Trained topic model\"\"\"\n",
    "        return self._text\n",
    "\n",
    "    @property\n",
    "    def entities(self):\n",
    "        \"\"\"Type of model which either already has been or will be trained\"\"\"\n",
    "        return self._entities\n",
    "    \n",
    "    @property\n",
    "    def identifier(self):\n",
    "        \"\"\"Type of model which either already has been or will be trained\"\"\"\n",
    "        return self._identifier\n",
    "    @property\n",
    "    def all_fields(self):\n",
    "        \"\"\"Type of model which either already has been or will be trained\"\"\"\n",
    "        return self._all_fields\n",
    "\n",
    "\n",
    "\n",
    "    def detector(self, text, all_fields, identifier='presidio', entities=[]):\n",
    "        \"\"\"Test if a given value contains an infotype\n",
    "\n",
    "        Args:\n",
    "            value: The value to be tested\n",
    "        \"\"\"\n",
    "        self._text = text\n",
    "        self._identifier = identifier\n",
    "        self._entities = entities\n",
    "        self._all_fields = all_fields\n",
    "\n",
    "\n",
    "        if self.identifier == 'presidio':\n",
    "            result = engine.analyze(text=self.text, all_fields=self.all_fields, correlation_id=0, language='en', entities=self.entities) \n",
    "        else:\n",
    "            result = \"Nope\"\n",
    "        return result"
   ]
  },
  {
   "cell_type": "code",
   "execution_count": 93,
   "metadata": {},
   "outputs": [
    {
     "data": {
      "text/plain": [
       "[type: EMAIL_ADDRESS, start: 0, end: 20, score: 1.0,\n",
       " type: DOMAIN_NAME, start: 11, end: 20, score: 1.0]"
      ]
     },
     "execution_count": 93,
     "metadata": {},
     "output_type": "execute_result"
    }
   ],
   "source": [
    "InfoType().detector(text='rtcrichard@gmail.com', all_fields=True, identifier='presidio')"
   ]
  },
  {
   "cell_type": "code",
   "execution_count": 94,
   "metadata": {},
   "outputs": [
    {
     "data": {
      "text/html": [
       "<div>\n",
       "<style scoped>\n",
       "    .dataframe tbody tr th:only-of-type {\n",
       "        vertical-align: middle;\n",
       "    }\n",
       "\n",
       "    .dataframe tbody tr th {\n",
       "        vertical-align: top;\n",
       "    }\n",
       "\n",
       "    .dataframe thead th {\n",
       "        text-align: right;\n",
       "    }\n",
       "</style>\n",
       "<table border=\"1\" class=\"dataframe\">\n",
       "  <thead>\n",
       "    <tr style=\"text-align: right;\">\n",
       "      <th></th>\n",
       "      <th>address</th>\n",
       "      <th>birthdate</th>\n",
       "      <th>blood_group</th>\n",
       "      <th>company</th>\n",
       "      <th>current_location</th>\n",
       "      <th>job</th>\n",
       "      <th>mail</th>\n",
       "      <th>name</th>\n",
       "      <th>residence</th>\n",
       "      <th>sex</th>\n",
       "      <th>ssn</th>\n",
       "      <th>username</th>\n",
       "      <th>website</th>\n",
       "    </tr>\n",
       "  </thead>\n",
       "  <tbody>\n",
       "    <tr>\n",
       "      <th>0</th>\n",
       "      <td>971 Summers Mountains\\nMarshallland, OH 06583</td>\n",
       "      <td>2008-10-24</td>\n",
       "      <td>O-</td>\n",
       "      <td>Mills-Hanson</td>\n",
       "      <td>(Decimal('77.601293'), Decimal('-132.151889'))</td>\n",
       "      <td>Hospital pharmacist</td>\n",
       "      <td>mcdonaldbarbara@yahoo.com</td>\n",
       "      <td>Joe Miller</td>\n",
       "      <td>4678 Andrews Stream Apt. 082\\nCooleyhaven, NH ...</td>\n",
       "      <td>M</td>\n",
       "      <td>600-14-7323</td>\n",
       "      <td>khunter</td>\n",
       "      <td>['http://bishop.com/', 'http://www.lowery.com/...</td>\n",
       "    </tr>\n",
       "  </tbody>\n",
       "</table>\n",
       "</div>"
      ],
      "text/plain": [
       "                                         address   birthdate blood_group  \\\n",
       "0  971 Summers Mountains\\nMarshallland, OH 06583  2008-10-24          O-   \n",
       "\n",
       "        company                                current_location  \\\n",
       "0  Mills-Hanson  (Decimal('77.601293'), Decimal('-132.151889'))   \n",
       "\n",
       "                   job                       mail        name  \\\n",
       "0  Hospital pharmacist  mcdonaldbarbara@yahoo.com  Joe Miller   \n",
       "\n",
       "                                           residence sex          ssn  \\\n",
       "0  4678 Andrews Stream Apt. 082\\nCooleyhaven, NH ...   M  600-14-7323   \n",
       "\n",
       "  username                                            website  \n",
       "0  khunter  ['http://bishop.com/', 'http://www.lowery.com/...  "
      ]
     },
     "execution_count": 94,
     "metadata": {},
     "output_type": "execute_result"
    }
   ],
   "source": [
    "df.head(1)"
   ]
  },
  {
   "cell_type": "code",
   "execution_count": 95,
   "metadata": {},
   "outputs": [
    {
     "data": {
      "text/plain": [
       "0    [type: EMAIL_ADDRESS, start: 0, end: 25, score...\n",
       "1    [type: EMAIL_ADDRESS, start: 0, end: 19, score...\n",
       "2    [type: EMAIL_ADDRESS, start: 0, end: 24, score...\n",
       "3    [type: EMAIL_ADDRESS, start: 0, end: 20, score...\n",
       "Name: mail, dtype: object"
      ]
     },
     "execution_count": 95,
     "metadata": {},
     "output_type": "execute_result"
    }
   ],
   "source": [
    "e = InfoType()\n",
    "df['mail'].map(lambda x: e.detector(text=x, all_fields='EmailRecognizer', identifier='presidio') )"
   ]
  },
  {
   "cell_type": "code",
   "execution_count": 96,
   "metadata": {},
   "outputs": [],
   "source": [
    "def guess_series_infotype(series, frac=0.5):\n",
    "    e = InfoType()\n",
    "    sampled_data = series.sample(frac=frac, random_state=1)\n",
    "    results = sampled_data.map(lambda x: e.detector(text=x, all_fields='EmailRecognizer', identifier='presidio'))\n",
    "    #return set([p.entity_type for parts in results for p in parts])\n",
    "    return results.tolist()\n"
   ]
  },
  {
   "cell_type": "code",
   "execution_count": 97,
   "metadata": {},
   "outputs": [
    {
     "data": {
      "text/plain": [
       "[[type: EMAIL_ADDRESS, start: 0, end: 20, score: 1.0,\n",
       "  type: DOMAIN_NAME, start: 9, end: 20, score: 1.0],\n",
       " [type: EMAIL_ADDRESS, start: 0, end: 24, score: 1.0,\n",
       "  type: DOMAIN_NAME, start: 15, end: 24, score: 1.0]]"
      ]
     },
     "execution_count": 97,
     "metadata": {},
     "output_type": "execute_result"
    }
   ],
   "source": [
    "guess_series_infotype(df['mail'])"
   ]
  },
  {
   "cell_type": "markdown",
   "metadata": {},
   "source": [
    "## type hints "
   ]
  },
  {
   "cell_type": "code",
   "execution_count": 98,
   "metadata": {},
   "outputs": [],
   "source": [
    "from typing import NewType, Dict\n"
   ]
  },
  {
   "cell_type": "code",
   "execution_count": 99,
   "metadata": {},
   "outputs": [],
   "source": [
    "NAME = NewType('NAME', str)\n",
    "\n",
    "class Name(Dict):\n",
    "    person: NAME"
   ]
  },
  {
   "cell_type": "code",
   "execution_count": 100,
   "metadata": {},
   "outputs": [
    {
     "data": {
      "text/plain": [
       "str"
      ]
     },
     "execution_count": 100,
     "metadata": {},
     "output_type": "execute_result"
    }
   ],
   "source": [
    "type(NAME('rich'))"
   ]
  },
  {
   "cell_type": "code",
   "execution_count": 101,
   "metadata": {},
   "outputs": [],
   "source": [
    "def test_func(a: Name) -> NAME:\n",
    "    return a\n",
    "    "
   ]
  },
  {
   "cell_type": "code",
   "execution_count": 102,
   "metadata": {},
   "outputs": [
    {
     "data": {
      "text/plain": [
       "3259049388444818814"
      ]
     },
     "execution_count": 102,
     "metadata": {},
     "output_type": "execute_result"
    }
   ],
   "source": [
    "hash('hi')"
   ]
  },
  {
   "cell_type": "code",
   "execution_count": 103,
   "metadata": {},
   "outputs": [
    {
     "data": {
      "text/plain": [
       "7261700005794478416"
      ]
     },
     "execution_count": 103,
     "metadata": {},
     "output_type": "execute_result"
    }
   ],
   "source": [
    "hash('bobby')"
   ]
  }
 ],
 "metadata": {
  "kernelspec": {
   "display_name": "mw-data_describe",
   "language": "python",
   "name": "mw-data_describe"
  },
  "language_info": {
   "codemirror_mode": {
    "name": "ipython",
    "version": 3
   },
   "file_extension": ".py",
   "mimetype": "text/x-python",
   "name": "python",
   "nbconvert_exporter": "python",
   "pygments_lexer": "ipython3",
   "version": "3.7.0"
  }
 },
 "nbformat": 4,
 "nbformat_minor": 4
}
