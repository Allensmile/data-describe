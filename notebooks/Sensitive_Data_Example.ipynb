{
 "cells": [
  {
   "cell_type": "code",
   "execution_count": 1,
   "metadata": {},
   "outputs": [
    {
     "name": "stdout",
     "output_type": "stream",
     "text": [
      "[2020-06-14 18:50:02,449][presidio][INFO]nlp_engine not provided. Creating new SpacyNlpEngine instance\n",
      "[2020-06-14 18:50:02,774][presidio][INFO]Loading NLP model: spaCy en_core_web_lg\n",
      "\u001b[1m\n",
      "===================== Info about model 'en_core_web_lg' =====================\u001b[0m\n",
      "\n",
      "lang             en                            \n",
      "name             core_web_lg                   \n",
      "license          MIT                           \n",
      "author           Explosion                     \n",
      "url              https://explosion.ai          \n",
      "email            contact@explosion.ai          \n",
      "description      English multi-task CNN trained on OntoNotes, with GloVe vectors trained on Common Crawl. Assigns word vectors, context-specific token vectors, POS tags, dependency parse and named entities.\n",
      "sources          [{'name': 'OntoNotes 5', 'url': 'https://catalog.ldc.upenn.edu/LDC2013T19', 'license': 'commercial (licensed by Explosion)'}, {'name': 'Common Crawl'}]\n",
      "pipeline         ['tagger', 'parser', 'ner']   \n",
      "version          2.2.5                         \n",
      "spacy_version    >=2.2.2                       \n",
      "parent_package   spacy                         \n",
      "labels           {'tagger': ['$', \"''\", ',', '-LRB-', '-RRB-', '.', ':', 'ADD', 'AFX', 'CC', 'CD', 'DT', 'EX', 'FW', 'HYPH', 'IN', 'JJ', 'JJR', 'JJS', 'LS', 'MD', 'NFP', 'NN', 'NNP', 'NNPS', 'NNS', 'PDT', 'POS', 'PRP', 'PRP$', 'RB', 'RBR', 'RBS', 'RP', 'SYM', 'TO', 'UH', 'VB', 'VBD', 'VBG', 'VBN', 'VBP', 'VBZ', 'WDT', 'WP', 'WP$', 'WRB', 'XX', '_SP', '``'], 'parser': ['ROOT', 'acl', 'acomp', 'advcl', 'advmod', 'agent', 'amod', 'appos', 'attr', 'aux', 'auxpass', 'case', 'cc', 'ccomp', 'compound', 'conj', 'csubj', 'csubjpass', 'dative', 'dep', 'det', 'dobj', 'expl', 'intj', 'mark', 'meta', 'neg', 'nmod', 'npadvmod', 'nsubj', 'nsubjpass', 'nummod', 'oprd', 'parataxis', 'pcomp', 'pobj', 'poss', 'preconj', 'predet', 'prep', 'prt', 'punct', 'quantmod', 'relcl', 'xcomp'], 'ner': ['CARDINAL', 'DATE', 'EVENT', 'FAC', 'GPE', 'LANGUAGE', 'LAW', 'LOC', 'MONEY', 'NORP', 'ORDINAL', 'ORG', 'PERCENT', 'PERSON', 'PRODUCT', 'QUANTITY', 'TIME', 'WORK_OF_ART']}\n",
      "vectors          {'width': 300, 'vectors': 684831, 'keys': 684830, 'name': 'en_core_web_lg.vectors'}\n",
      "source           /Users/richardtruong-chau/miniconda3/envs/mw-data_describe/lib/python3.7/site-packages/en_core_web_lg\n",
      "\n",
      "[2020-06-14 18:50:12,280][presidio][INFO]Printing spaCy model and package details:\n",
      "\n",
      " {'lang': 'en', 'name': 'core_web_lg', 'license': 'MIT', 'author': 'Explosion', 'url': 'https://explosion.ai', 'email': 'contact@explosion.ai', 'description': 'English multi-task CNN trained on OntoNotes, with GloVe vectors trained on Common Crawl. Assigns word vectors, context-specific token vectors, POS tags, dependency parse and named entities.', 'sources': [{'name': 'OntoNotes 5', 'url': 'https://catalog.ldc.upenn.edu/LDC2013T19', 'license': 'commercial (licensed by Explosion)'}, {'name': 'Common Crawl'}], 'pipeline': ['tagger', 'parser', 'ner'], 'version': '2.2.5', 'spacy_version': '>=2.2.2', 'parent_package': 'spacy', 'accuracy': {'las': 90.1734441725, 'uas': 92.0132337105, 'token_acc': 99.7579930934, 'tags_acc': 97.2200800054, 'ents_f': 86.5464321721, 'ents_p': 86.7358967163, 'ents_r': 86.3577935506}, 'speed': {'cpu': 6257.754029418, 'gpu': None, 'nwords': 291314}, 'labels': {'tagger': ['$', \"''\", ',', '-LRB-', '-RRB-', '.', ':', 'ADD', 'AFX', 'CC', 'CD', 'DT', 'EX', 'FW', 'HYPH', 'IN', 'JJ', 'JJR', 'JJS', 'LS', 'MD', 'NFP', 'NN', 'NNP', 'NNPS', 'NNS', 'PDT', 'POS', 'PRP', 'PRP$', 'RB', 'RBR', 'RBS', 'RP', 'SYM', 'TO', 'UH', 'VB', 'VBD', 'VBG', 'VBN', 'VBP', 'VBZ', 'WDT', 'WP', 'WP$', 'WRB', 'XX', '_SP', '``'], 'parser': ['ROOT', 'acl', 'acomp', 'advcl', 'advmod', 'agent', 'amod', 'appos', 'attr', 'aux', 'auxpass', 'case', 'cc', 'ccomp', 'compound', 'conj', 'csubj', 'csubjpass', 'dative', 'dep', 'det', 'dobj', 'expl', 'intj', 'mark', 'meta', 'neg', 'nmod', 'npadvmod', 'nsubj', 'nsubjpass', 'nummod', 'oprd', 'parataxis', 'pcomp', 'pobj', 'poss', 'preconj', 'predet', 'prep', 'prt', 'punct', 'quantmod', 'relcl', 'xcomp'], 'ner': ['CARDINAL', 'DATE', 'EVENT', 'FAC', 'GPE', 'LANGUAGE', 'LAW', 'LOC', 'MONEY', 'NORP', 'ORDINAL', 'ORG', 'PERCENT', 'PERSON', 'PRODUCT', 'QUANTITY', 'TIME', 'WORK_OF_ART']}, 'vectors': {'width': 300, 'vectors': 684831, 'keys': 684830, 'name': 'en_core_web_lg.vectors'}, 'source': '/Users/richardtruong-chau/miniconda3/envs/mw-data_describe/lib/python3.7/site-packages/en_core_web_lg'}\n",
      "\n",
      "\n",
      "[2020-06-14 18:50:12,281][presidio][INFO]Recognizer registry not provided. Creating default RecognizerRegistry instance\n",
      "[2020-06-14 18:50:12,281][presidio][INFO]Loaded recognizer: CreditCardRecognizer\n",
      "[2020-06-14 18:50:12,282][presidio][INFO]Loaded recognizer: CryptoRecognizer\n",
      "[2020-06-14 18:50:12,283][presidio][INFO]Loaded recognizer: DomainRecognizer\n",
      "[2020-06-14 18:50:12,284][presidio][INFO]Loaded recognizer: EmailRecognizer\n",
      "[2020-06-14 18:50:12,284][presidio][INFO]Loaded recognizer: IbanRecognizer\n",
      "[2020-06-14 18:50:12,285][presidio][INFO]Loaded recognizer: IpRecognizer\n",
      "[2020-06-14 18:50:12,285][presidio][INFO]Loaded recognizer: NhsRecognizer\n",
      "[2020-06-14 18:50:12,286][presidio][INFO]Loaded recognizer: UsBankRecognizer\n",
      "[2020-06-14 18:50:12,287][presidio][INFO]Loaded recognizer: UsLicenseRecognizer\n",
      "[2020-06-14 18:50:12,287][presidio][INFO]Loaded recognizer: UsItinRecognizer\n",
      "[2020-06-14 18:50:12,287][presidio][INFO]Loaded recognizer: UsPassportRecognizer\n",
      "[2020-06-14 18:50:12,288][presidio][INFO]Loaded recognizer: UsPhoneRecognizer\n",
      "[2020-06-14 18:50:12,288][presidio][INFO]Loaded recognizer: UsSsnRecognizer\n",
      "[2020-06-14 18:50:12,289][presidio][INFO]Loaded recognizer: SpacyRecognizer\n",
      "[2020-06-14 18:50:12,290][presidio][INFO]Loaded recognizer: SgFinRecognizer\n"
     ]
    }
   ],
   "source": [
    "#%%capture\n",
    "# remove all these logs\n",
    "import logging\n",
    "#logger = logging.getLogger(\"mechanize\")\n",
    "# only log really bad events\n",
    "#logger.setLevel(logging.ERROR)\n",
    "\n",
    "import sys\n",
    "sys.path.append(\"../\")\n",
    "from mwdata.sensitive_data.sensitive_data import *\n",
    "from faker import Faker\n",
    "import pandas as pd\n"
   ]
  },
  {
   "cell_type": "markdown",
   "metadata": {},
   "source": [
    "# Create fake data "
   ]
  },
  {
   "cell_type": "code",
   "execution_count": 2,
   "metadata": {},
   "outputs": [
    {
     "data": {
      "text/html": [
       "<div>\n",
       "<style scoped>\n",
       "    .dataframe tbody tr th:only-of-type {\n",
       "        vertical-align: middle;\n",
       "    }\n",
       "\n",
       "    .dataframe tbody tr th {\n",
       "        vertical-align: top;\n",
       "    }\n",
       "\n",
       "    .dataframe thead th {\n",
       "        text-align: right;\n",
       "    }\n",
       "</style>\n",
       "<table border=\"1\" class=\"dataframe\">\n",
       "  <thead>\n",
       "    <tr style=\"text-align: right;\">\n",
       "      <th></th>\n",
       "      <th>job</th>\n",
       "      <th>company</th>\n",
       "      <th>ssn</th>\n",
       "      <th>residence</th>\n",
       "      <th>current_location</th>\n",
       "      <th>blood_group</th>\n",
       "      <th>website</th>\n",
       "      <th>username</th>\n",
       "      <th>name</th>\n",
       "      <th>sex</th>\n",
       "      <th>address</th>\n",
       "      <th>mail</th>\n",
       "      <th>birthdate</th>\n",
       "    </tr>\n",
       "  </thead>\n",
       "  <tbody>\n",
       "    <tr>\n",
       "      <th>0</th>\n",
       "      <td>Secretary/administrator</td>\n",
       "      <td>Fisher, Green and Dixon</td>\n",
       "      <td>415-39-7809</td>\n",
       "      <td>24219 Archer Mountain Suite 924\\nNorth Melissa...</td>\n",
       "      <td>(73.9837235, 163.824695)</td>\n",
       "      <td>O-</td>\n",
       "      <td>[http://sellers.com/, https://garrett.com/, ht...</td>\n",
       "      <td>sandraharris</td>\n",
       "      <td>Doris Martinez</td>\n",
       "      <td>F</td>\n",
       "      <td>19659 Ivan Stravenue Apt. 471\\nLake Nancyside,...</td>\n",
       "      <td>mary84@yahoo.com</td>\n",
       "      <td>1936-07-02</td>\n",
       "    </tr>\n",
       "    <tr>\n",
       "      <th>1</th>\n",
       "      <td>Senior tax professional/tax inspector</td>\n",
       "      <td>Lawrence, Herring and Riley</td>\n",
       "      <td>462-64-5856</td>\n",
       "      <td>5330 Wilson Fields Suite 560\\nEast Heiditown, ...</td>\n",
       "      <td>(71.6439095, -140.273217)</td>\n",
       "      <td>A+</td>\n",
       "      <td>[https://wood-hooper.com/, http://martinez.net/]</td>\n",
       "      <td>jeffreylucas</td>\n",
       "      <td>Jeffery Garcia</td>\n",
       "      <td>M</td>\n",
       "      <td>0916 Michael Row\\nSellersville, WI 08109</td>\n",
       "      <td>imoore@yahoo.com</td>\n",
       "      <td>1920-05-27</td>\n",
       "    </tr>\n",
       "  </tbody>\n",
       "</table>\n",
       "</div>"
      ],
      "text/plain": [
       "                                     job                      company  \\\n",
       "0                Secretary/administrator      Fisher, Green and Dixon   \n",
       "1  Senior tax professional/tax inspector  Lawrence, Herring and Riley   \n",
       "\n",
       "           ssn                                          residence  \\\n",
       "0  415-39-7809  24219 Archer Mountain Suite 924\\nNorth Melissa...   \n",
       "1  462-64-5856  5330 Wilson Fields Suite 560\\nEast Heiditown, ...   \n",
       "\n",
       "            current_location blood_group  \\\n",
       "0   (73.9837235, 163.824695)          O-   \n",
       "1  (71.6439095, -140.273217)          A+   \n",
       "\n",
       "                                             website      username  \\\n",
       "0  [http://sellers.com/, https://garrett.com/, ht...  sandraharris   \n",
       "1   [https://wood-hooper.com/, http://martinez.net/]  jeffreylucas   \n",
       "\n",
       "             name sex                                            address  \\\n",
       "0  Doris Martinez   F  19659 Ivan Stravenue Apt. 471\\nLake Nancyside,...   \n",
       "1  Jeffery Garcia   M           0916 Michael Row\\nSellersville, WI 08109   \n",
       "\n",
       "               mail   birthdate  \n",
       "0  mary84@yahoo.com  1936-07-02  \n",
       "1  imoore@yahoo.com  1920-05-27  "
      ]
     },
     "execution_count": 2,
     "metadata": {},
     "output_type": "execute_result"
    }
   ],
   "source": [
    "fake = Faker()\n",
    "Faker.seed(0)\n",
    "df = pd.DataFrame([fake.profile() for i in range(10)])\n",
    "df.head(2)"
   ]
  },
  {
   "cell_type": "markdown",
   "metadata": {},
   "source": [
    "# Redact sensitive data"
   ]
  },
  {
   "cell_type": "code",
   "execution_count": 3,
   "metadata": {},
   "outputs": [
    {
     "data": {
      "text/html": [
       "<div>\n",
       "<style scoped>\n",
       "    .dataframe tbody tr th:only-of-type {\n",
       "        vertical-align: middle;\n",
       "    }\n",
       "\n",
       "    .dataframe tbody tr th {\n",
       "        vertical-align: top;\n",
       "    }\n",
       "\n",
       "    .dataframe thead th {\n",
       "        text-align: right;\n",
       "    }\n",
       "</style>\n",
       "<table border=\"1\" class=\"dataframe\">\n",
       "  <thead>\n",
       "    <tr style=\"text-align: right;\">\n",
       "      <th></th>\n",
       "      <th>job</th>\n",
       "      <th>company</th>\n",
       "      <th>ssn</th>\n",
       "      <th>residence</th>\n",
       "      <th>current_location</th>\n",
       "      <th>blood_group</th>\n",
       "      <th>website</th>\n",
       "      <th>username</th>\n",
       "      <th>name</th>\n",
       "      <th>sex</th>\n",
       "      <th>address</th>\n",
       "      <th>mail</th>\n",
       "      <th>birthdate</th>\n",
       "    </tr>\n",
       "  </thead>\n",
       "  <tbody>\n",
       "    <tr>\n",
       "      <th>0</th>\n",
       "      <td>Secretary/administrator</td>\n",
       "      <td>&lt;PERSON&gt;, &lt;PERSON&gt; and &lt;PERSON&gt;</td>\n",
       "      <td>&lt;US_SSN&gt;</td>\n",
       "      <td>24219 &lt;LOCATION&gt; Suite 924\\nNorth Melissaborou...</td>\n",
       "      <td>(Decimal('73.9837235'), Decimal('163.824695'))</td>\n",
       "      <td>O-</td>\n",
       "      <td>['http://&lt;DOMAIN_NAME&gt;/', 'https://&lt;DOMAIN_NAM...</td>\n",
       "      <td>sandraharris</td>\n",
       "      <td>&lt;PERSON&gt;</td>\n",
       "      <td>F</td>\n",
       "      <td>&lt;DATE_TIME&gt; &lt;PERSON&gt; Apt. 471\\nLake Nancyside,...</td>\n",
       "      <td>&lt;EMAIL_ADDRESS&gt;</td>\n",
       "      <td>&lt;DATE_TIME&gt;</td>\n",
       "    </tr>\n",
       "    <tr>\n",
       "      <th>1</th>\n",
       "      <td>Senior tax professional/tax inspector</td>\n",
       "      <td>&lt;PERSON&gt;, &lt;PERSON&gt; and &lt;PERSON&gt;</td>\n",
       "      <td>&lt;US_SSN&gt;</td>\n",
       "      <td>5330 Wilson Fields Suite 560\\n&lt;LOCATION&gt;, &lt;LOC...</td>\n",
       "      <td>(Decimal('71.6439095'), Decimal('-140.273217'))</td>\n",
       "      <td>A+</td>\n",
       "      <td>['https://&lt;DOMAIN_NAME&gt;/', 'http://&lt;DOMAIN_NAM...</td>\n",
       "      <td>jeffreylucas</td>\n",
       "      <td>&lt;PERSON&gt;</td>\n",
       "      <td>M</td>\n",
       "      <td>&lt;DATE_TIME&gt;Sellersville, &lt;LOCATION&gt; 08109</td>\n",
       "      <td>&lt;EMAIL_ADDRESS&gt;</td>\n",
       "      <td>&lt;DATE_TIME&gt;</td>\n",
       "    </tr>\n",
       "  </tbody>\n",
       "</table>\n",
       "</div>"
      ],
      "text/plain": [
       "                                     job                          company  \\\n",
       "0                Secretary/administrator  <PERSON>, <PERSON> and <PERSON>   \n",
       "1  Senior tax professional/tax inspector  <PERSON>, <PERSON> and <PERSON>   \n",
       "\n",
       "        ssn                                          residence  \\\n",
       "0  <US_SSN>  24219 <LOCATION> Suite 924\\nNorth Melissaborou...   \n",
       "1  <US_SSN>  5330 Wilson Fields Suite 560\\n<LOCATION>, <LOC...   \n",
       "\n",
       "                                  current_location blood_group  \\\n",
       "0   (Decimal('73.9837235'), Decimal('163.824695'))          O-   \n",
       "1  (Decimal('71.6439095'), Decimal('-140.273217'))          A+   \n",
       "\n",
       "                                             website      username      name  \\\n",
       "0  ['http://<DOMAIN_NAME>/', 'https://<DOMAIN_NAM...  sandraharris  <PERSON>   \n",
       "1  ['https://<DOMAIN_NAME>/', 'http://<DOMAIN_NAM...  jeffreylucas  <PERSON>   \n",
       "\n",
       "  sex                                            address             mail  \\\n",
       "0   F  <DATE_TIME> <PERSON> Apt. 471\\nLake Nancyside,...  <EMAIL_ADDRESS>   \n",
       "1   M          <DATE_TIME>Sellersville, <LOCATION> 08109  <EMAIL_ADDRESS>   \n",
       "\n",
       "     birthdate  \n",
       "0  <DATE_TIME>  \n",
       "1  <DATE_TIME>  "
      ]
     },
     "execution_count": 3,
     "metadata": {},
     "output_type": "execute_result"
    }
   ],
   "source": [
    "sensitive_data(df, redact=True, score_threshold=0.50).head(2)"
   ]
  },
  {
   "cell_type": "code",
   "execution_count": null,
   "metadata": {},
   "outputs": [],
   "source": []
  },
  {
   "cell_type": "markdown",
   "metadata": {},
   "source": [
    "# Redact sensitive data using selected columns"
   ]
  },
  {
   "cell_type": "code",
   "execution_count": null,
   "metadata": {},
   "outputs": [],
   "source": []
  },
  {
   "cell_type": "code",
   "execution_count": 4,
   "metadata": {},
   "outputs": [
    {
     "data": {
      "text/html": [
       "<div>\n",
       "<style scoped>\n",
       "    .dataframe tbody tr th:only-of-type {\n",
       "        vertical-align: middle;\n",
       "    }\n",
       "\n",
       "    .dataframe tbody tr th {\n",
       "        vertical-align: top;\n",
       "    }\n",
       "\n",
       "    .dataframe thead th {\n",
       "        text-align: right;\n",
       "    }\n",
       "</style>\n",
       "<table border=\"1\" class=\"dataframe\">\n",
       "  <thead>\n",
       "    <tr style=\"text-align: right;\">\n",
       "      <th></th>\n",
       "      <th>job</th>\n",
       "      <th>company</th>\n",
       "      <th>ssn</th>\n",
       "      <th>residence</th>\n",
       "      <th>current_location</th>\n",
       "      <th>blood_group</th>\n",
       "      <th>website</th>\n",
       "      <th>username</th>\n",
       "      <th>name</th>\n",
       "      <th>sex</th>\n",
       "      <th>address</th>\n",
       "      <th>mail</th>\n",
       "      <th>birthdate</th>\n",
       "    </tr>\n",
       "  </thead>\n",
       "  <tbody>\n",
       "    <tr>\n",
       "      <th>0</th>\n",
       "      <td>Secretary/administrator</td>\n",
       "      <td>Fisher, Green and Dixon</td>\n",
       "      <td>415-39-7809</td>\n",
       "      <td>24219 Archer Mountain Suite 924\\nNorth Melissa...</td>\n",
       "      <td>(73.9837235, 163.824695)</td>\n",
       "      <td>O-</td>\n",
       "      <td>[http://sellers.com/, https://garrett.com/, ht...</td>\n",
       "      <td>sandraharris</td>\n",
       "      <td>Doris Martinez</td>\n",
       "      <td>F</td>\n",
       "      <td>19659 Ivan Stravenue Apt. 471\\nLake Nancyside,...</td>\n",
       "      <td>&lt;EMAIL_ADDRESS&gt;</td>\n",
       "      <td>&lt;DATE_TIME&gt;</td>\n",
       "    </tr>\n",
       "    <tr>\n",
       "      <th>1</th>\n",
       "      <td>Senior tax professional/tax inspector</td>\n",
       "      <td>Lawrence, Herring and Riley</td>\n",
       "      <td>462-64-5856</td>\n",
       "      <td>5330 Wilson Fields Suite 560\\nEast Heiditown, ...</td>\n",
       "      <td>(71.6439095, -140.273217)</td>\n",
       "      <td>A+</td>\n",
       "      <td>[https://wood-hooper.com/, http://martinez.net/]</td>\n",
       "      <td>jeffreylucas</td>\n",
       "      <td>Jeffery Garcia</td>\n",
       "      <td>M</td>\n",
       "      <td>0916 Michael Row\\nSellersville, WI 08109</td>\n",
       "      <td>&lt;EMAIL_ADDRESS&gt;</td>\n",
       "      <td>&lt;DATE_TIME&gt;</td>\n",
       "    </tr>\n",
       "  </tbody>\n",
       "</table>\n",
       "</div>"
      ],
      "text/plain": [
       "                                     job                      company  \\\n",
       "0                Secretary/administrator      Fisher, Green and Dixon   \n",
       "1  Senior tax professional/tax inspector  Lawrence, Herring and Riley   \n",
       "\n",
       "           ssn                                          residence  \\\n",
       "0  415-39-7809  24219 Archer Mountain Suite 924\\nNorth Melissa...   \n",
       "1  462-64-5856  5330 Wilson Fields Suite 560\\nEast Heiditown, ...   \n",
       "\n",
       "            current_location blood_group  \\\n",
       "0   (73.9837235, 163.824695)          O-   \n",
       "1  (71.6439095, -140.273217)          A+   \n",
       "\n",
       "                                             website      username  \\\n",
       "0  [http://sellers.com/, https://garrett.com/, ht...  sandraharris   \n",
       "1   [https://wood-hooper.com/, http://martinez.net/]  jeffreylucas   \n",
       "\n",
       "             name sex                                            address  \\\n",
       "0  Doris Martinez   F  19659 Ivan Stravenue Apt. 471\\nLake Nancyside,...   \n",
       "1  Jeffery Garcia   M           0916 Michael Row\\nSellersville, WI 08109   \n",
       "\n",
       "              mail    birthdate  \n",
       "0  <EMAIL_ADDRESS>  <DATE_TIME>  \n",
       "1  <EMAIL_ADDRESS>  <DATE_TIME>  "
      ]
     },
     "execution_count": 4,
     "metadata": {},
     "output_type": "execute_result"
    }
   ],
   "source": [
    "cols = ['birthdate', 'mail']\n",
    "df[cols] = sensitive_data(df, redact=True, score_threshold=0.50, cols=['birthdate', 'mail'])\n",
    "df.head(2)"
   ]
  },
  {
   "cell_type": "code",
   "execution_count": 5,
   "metadata": {},
   "outputs": [
    {
     "data": {
      "text/plain": [
       "<DATE_TIME>    10\n",
       "Name: birthdate, dtype: int64"
      ]
     },
     "execution_count": 5,
     "metadata": {},
     "output_type": "execute_result"
    }
   ],
   "source": [
    "df['birthdate'].value_counts()"
   ]
  },
  {
   "cell_type": "code",
   "execution_count": 6,
   "metadata": {},
   "outputs": [
    {
     "data": {
      "text/plain": [
       "<EMAIL_ADDRESS>    10\n",
       "Name: mail, dtype: int64"
      ]
     },
     "execution_count": 6,
     "metadata": {},
     "output_type": "execute_result"
    }
   ],
   "source": [
    "df['mail'].value_counts()"
   ]
  },
  {
   "cell_type": "markdown",
   "metadata": {},
   "source": [
    "# Identify infotypes in each column"
   ]
  },
  {
   "cell_type": "code",
   "execution_count": 7,
   "metadata": {},
   "outputs": [
    {
     "data": {
      "text/html": [
       "<div>\n",
       "<style scoped>\n",
       "    .dataframe tbody tr th:only-of-type {\n",
       "        vertical-align: middle;\n",
       "    }\n",
       "\n",
       "    .dataframe tbody tr th {\n",
       "        vertical-align: top;\n",
       "    }\n",
       "\n",
       "    .dataframe thead th {\n",
       "        text-align: right;\n",
       "    }\n",
       "</style>\n",
       "<table border=\"1\" class=\"dataframe\">\n",
       "  <thead>\n",
       "    <tr style=\"text-align: right;\">\n",
       "      <th></th>\n",
       "      <th>job</th>\n",
       "      <th>company</th>\n",
       "      <th>ssn</th>\n",
       "      <th>residence</th>\n",
       "      <th>current_location</th>\n",
       "      <th>blood_group</th>\n",
       "      <th>website</th>\n",
       "      <th>username</th>\n",
       "      <th>name</th>\n",
       "      <th>sex</th>\n",
       "      <th>address</th>\n",
       "      <th>mail</th>\n",
       "      <th>birthdate</th>\n",
       "    </tr>\n",
       "  </thead>\n",
       "  <tbody>\n",
       "    <tr>\n",
       "      <th>0</th>\n",
       "      <td>Copywriter, advertising</td>\n",
       "      <td>Bentley Group</td>\n",
       "      <td>051-50-0546</td>\n",
       "      <td>02394 Bush Mission\\nPort Michael, NY 68150</td>\n",
       "      <td>(88.678598, 168.167349)</td>\n",
       "      <td>O-</td>\n",
       "      <td>[https://www.lewis.com/, http://buchanan.org/,...</td>\n",
       "      <td>chambersjill</td>\n",
       "      <td>Kelly Lopez</td>\n",
       "      <td>F</td>\n",
       "      <td>53048 Steven Route Apt. 677\\nNorth John, DE 28480</td>\n",
       "      <td>chrissimmons@hotmail.com</td>\n",
       "      <td>2017-04-28</td>\n",
       "    </tr>\n",
       "    <tr>\n",
       "      <th>1</th>\n",
       "      <td>Fine artist</td>\n",
       "      <td>Wright, Robinson and Pittman</td>\n",
       "      <td>286-46-5237</td>\n",
       "      <td>Unit 1849 Box 8347\\nDPO AA 61066</td>\n",
       "      <td>(53.9257025, 160.567443)</td>\n",
       "      <td>B+</td>\n",
       "      <td>[http://thompson.net/, https://www.patterson-w...</td>\n",
       "      <td>julian31</td>\n",
       "      <td>Ms. Crystal Moran</td>\n",
       "      <td>F</td>\n",
       "      <td>74922 Tran Heights Suite 026\\nEast Vickieland,...</td>\n",
       "      <td>heather33@hotmail.com</td>\n",
       "      <td>2015-07-14</td>\n",
       "    </tr>\n",
       "  </tbody>\n",
       "</table>\n",
       "</div>"
      ],
      "text/plain": [
       "                       job                       company          ssn  \\\n",
       "0  Copywriter, advertising                 Bentley Group  051-50-0546   \n",
       "1              Fine artist  Wright, Robinson and Pittman  286-46-5237   \n",
       "\n",
       "                                    residence          current_location  \\\n",
       "0  02394 Bush Mission\\nPort Michael, NY 68150   (88.678598, 168.167349)   \n",
       "1            Unit 1849 Box 8347\\nDPO AA 61066  (53.9257025, 160.567443)   \n",
       "\n",
       "  blood_group                                            website  \\\n",
       "0          O-  [https://www.lewis.com/, http://buchanan.org/,...   \n",
       "1          B+  [http://thompson.net/, https://www.patterson-w...   \n",
       "\n",
       "       username               name sex  \\\n",
       "0  chambersjill        Kelly Lopez   F   \n",
       "1      julian31  Ms. Crystal Moran   F   \n",
       "\n",
       "                                             address  \\\n",
       "0  53048 Steven Route Apt. 677\\nNorth John, DE 28480   \n",
       "1  74922 Tran Heights Suite 026\\nEast Vickieland,...   \n",
       "\n",
       "                       mail   birthdate  \n",
       "0  chrissimmons@hotmail.com  2017-04-28  \n",
       "1     heather33@hotmail.com  2015-07-14  "
      ]
     },
     "execution_count": 7,
     "metadata": {},
     "output_type": "execute_result"
    }
   ],
   "source": [
    "fake = Faker()\n",
    "df = pd.DataFrame([fake.profile() for i in range(10)])\n",
    "df.head(2)"
   ]
  },
  {
   "cell_type": "code",
   "execution_count": 8,
   "metadata": {},
   "outputs": [
    {
     "data": {
      "text/html": [
       "<div>\n",
       "<style scoped>\n",
       "    .dataframe tbody tr th:only-of-type {\n",
       "        vertical-align: middle;\n",
       "    }\n",
       "\n",
       "    .dataframe tbody tr th {\n",
       "        vertical-align: top;\n",
       "    }\n",
       "\n",
       "    .dataframe thead th {\n",
       "        text-align: right;\n",
       "    }\n",
       "</style>\n",
       "<table border=\"1\" class=\"dataframe\">\n",
       "  <thead>\n",
       "    <tr style=\"text-align: right;\">\n",
       "      <th></th>\n",
       "      <th>job</th>\n",
       "      <th>company</th>\n",
       "      <th>ssn</th>\n",
       "      <th>residence</th>\n",
       "      <th>current_location</th>\n",
       "      <th>blood_group</th>\n",
       "      <th>website</th>\n",
       "      <th>username</th>\n",
       "      <th>name</th>\n",
       "      <th>sex</th>\n",
       "      <th>address</th>\n",
       "      <th>mail</th>\n",
       "      <th>birthdate</th>\n",
       "    </tr>\n",
       "  </thead>\n",
       "  <tbody>\n",
       "    <tr>\n",
       "      <th>0</th>\n",
       "      <td>Copywriter, advertising</td>\n",
       "      <td>Bentley Group</td>\n",
       "      <td>&lt;US_SSN&gt;</td>\n",
       "      <td>02394 &lt;PERSON&gt; Mission\\nPort &lt;LOCATION&gt;, &lt;LOCA...</td>\n",
       "      <td>(Decimal('88.678598'), Decimal('168.167349'))</td>\n",
       "      <td>O-</td>\n",
       "      <td>['https://&lt;DOMAIN_NAME&gt;/', 'http://&lt;DOMAIN_NAM...</td>\n",
       "      <td>chambersjill</td>\n",
       "      <td>&lt;PERSON&gt;</td>\n",
       "      <td>F</td>\n",
       "      <td>53048 Steven Route Apt. 677\\nNorth John, DE 28480</td>\n",
       "      <td>&lt;EMAIL_ADDRESS&gt;</td>\n",
       "      <td>&lt;DATE_TIME&gt;</td>\n",
       "    </tr>\n",
       "    <tr>\n",
       "      <th>1</th>\n",
       "      <td>Fine artist</td>\n",
       "      <td>&lt;PERSON&gt; and &lt;PERSON&gt;</td>\n",
       "      <td>&lt;US_SSN&gt;</td>\n",
       "      <td>Unit 1849 Box 8347\\nDPO AA 61066</td>\n",
       "      <td>(Decimal('53.9257025'), Decimal('160.567443'))</td>\n",
       "      <td>B+</td>\n",
       "      <td>['http://&lt;DOMAIN_NAME&gt;/', 'https://&lt;DOMAIN_NAM...</td>\n",
       "      <td>julian31</td>\n",
       "      <td>Ms. &lt;PERSON&gt;</td>\n",
       "      <td>F</td>\n",
       "      <td>&lt;DATE_TIME&gt; Tran Heights Suite 026\\n&lt;LOCATION&gt;...</td>\n",
       "      <td>&lt;EMAIL_ADDRESS&gt;</td>\n",
       "      <td>2015-07-14</td>\n",
       "    </tr>\n",
       "  </tbody>\n",
       "</table>\n",
       "</div>"
      ],
      "text/plain": [
       "                       job                company       ssn  \\\n",
       "0  Copywriter, advertising          Bentley Group  <US_SSN>   \n",
       "1              Fine artist  <PERSON> and <PERSON>  <US_SSN>   \n",
       "\n",
       "                                           residence  \\\n",
       "0  02394 <PERSON> Mission\\nPort <LOCATION>, <LOCA...   \n",
       "1                   Unit 1849 Box 8347\\nDPO AA 61066   \n",
       "\n",
       "                                 current_location blood_group  \\\n",
       "0   (Decimal('88.678598'), Decimal('168.167349'))          O-   \n",
       "1  (Decimal('53.9257025'), Decimal('160.567443'))          B+   \n",
       "\n",
       "                                             website      username  \\\n",
       "0  ['https://<DOMAIN_NAME>/', 'http://<DOMAIN_NAM...  chambersjill   \n",
       "1  ['http://<DOMAIN_NAME>/', 'https://<DOMAIN_NAM...      julian31   \n",
       "\n",
       "           name sex                                            address  \\\n",
       "0      <PERSON>   F  53048 Steven Route Apt. 677\\nNorth John, DE 28480   \n",
       "1  Ms. <PERSON>   F  <DATE_TIME> Tran Heights Suite 026\\n<LOCATION>...   \n",
       "\n",
       "              mail    birthdate  \n",
       "0  <EMAIL_ADDRESS>  <DATE_TIME>  \n",
       "1  <EMAIL_ADDRESS>   2015-07-14  "
      ]
     },
     "execution_count": 8,
     "metadata": {},
     "output_type": "execute_result"
    }
   ],
   "source": [
    "redact_df = sensitive_data(df, redact=True)\n",
    "redact_df.head(2)"
   ]
  },
  {
   "cell_type": "markdown",
   "metadata": {},
   "source": [
    "# Modin"
   ]
  },
  {
   "cell_type": "code",
   "execution_count": 9,
   "metadata": {},
   "outputs": [],
   "source": [
    "# import os\n",
    "# os.environ[\"MODIN_ENGINE\"] = \"ray\"  # Modin will use Ray\n",
    "# os.environ[\"MODIN_ENGINE\"] = \"dask\"  # Modin will use Dask\n",
    "# import modin.pandas as mpd\n",
    "# from faker import Faker\n",
    "# import pandas as pd"
   ]
  },
  {
   "cell_type": "code",
   "execution_count": 16,
   "metadata": {},
   "outputs": [],
   "source": [
    "# fake = Faker()\n",
    "# Faker.seed(0)\n",
    "# df = pd.DataFrame([fake.profile() for i in range(100)])\n",
    "# df.head(2)"
   ]
  },
  {
   "cell_type": "code",
   "execution_count": 12,
   "metadata": {},
   "outputs": [],
   "source": [
    "# fake = Faker()\n",
    "# df = mpd.DataFrame([fake.profile() for i in range(100)])\n",
    "# df.head(2)"
   ]
  },
  {
   "cell_type": "code",
   "execution_count": 17,
   "metadata": {},
   "outputs": [],
   "source": [
    "#type(df)"
   ]
  },
  {
   "cell_type": "code",
   "execution_count": 18,
   "metadata": {},
   "outputs": [],
   "source": [
    "# %%time\n",
    "# df['myname'] = 'richard'\n",
    "# x = encrypt_data(df)"
   ]
  },
  {
   "cell_type": "code",
   "execution_count": 19,
   "metadata": {},
   "outputs": [],
   "source": [
    "# df = mpd.DataFrame([\"John Doe\", \"John Doe\"])\n",
    "# df"
   ]
  },
  {
   "cell_type": "code",
   "execution_count": 20,
   "metadata": {},
   "outputs": [],
   "source": [
    "#df.iloc[1,0]"
   ]
  },
  {
   "cell_type": "code",
   "execution_count": 21,
   "metadata": {},
   "outputs": [],
   "source": [
    "#x['myname'].value_counts()"
   ]
  },
  {
   "cell_type": "code",
   "execution_count": 22,
   "metadata": {},
   "outputs": [],
   "source": []
  },
  {
   "cell_type": "code",
   "execution_count": null,
   "metadata": {},
   "outputs": [],
   "source": []
  },
  {
   "cell_type": "code",
   "execution_count": null,
   "metadata": {},
   "outputs": [],
   "source": []
  },
  {
   "cell_type": "code",
   "execution_count": null,
   "metadata": {},
   "outputs": [],
   "source": []
  }
 ],
 "metadata": {
  "kernelspec": {
   "display_name": "mw-data_describe",
   "language": "python",
   "name": "mw-data_describe"
  },
  "language_info": {
   "codemirror_mode": {
    "name": "ipython",
    "version": 3
   },
   "file_extension": ".py",
   "mimetype": "text/x-python",
   "name": "python",
   "nbconvert_exporter": "python",
   "pygments_lexer": "ipython3",
   "version": "3.7.0"
  }
 },
 "nbformat": 4,
 "nbformat_minor": 4
}
