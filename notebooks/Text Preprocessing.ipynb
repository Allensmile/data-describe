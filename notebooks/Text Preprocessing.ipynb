{
 "cells": [
  {
   "cell_type": "markdown",
   "metadata": {},
   "source": [
    "# Text Preprocessing"
   ]
  },
  {
   "cell_type": "code",
   "execution_count": 1,
   "metadata": {},
   "outputs": [],
   "source": [
    "import pandas as pd\n",
    "import sys\n",
    "import os\n",
    "sys.path.append(\"..\")\n",
    "from mwdata.text.text_preprocessing import *\n",
    "from mwdata.utilities.load_data import load_data"
   ]
  },
  {
   "cell_type": "markdown",
   "metadata": {},
   "source": [
    "## Load Data"
   ]
  },
  {
   "cell_type": "code",
   "execution_count": 6,
   "metadata": {},
   "outputs": [],
   "source": [
    "addresses = load_data('../Data/Addresses')[0].tolist()"
   ]
  },
  {
   "cell_type": "code",
   "execution_count": 7,
   "metadata": {},
   "outputs": [
    {
     "data": {
      "text/plain": [
       "'\\n Fellow-Citizens of the Senate and House of Representatives:\\nSince your last annual assembling anot'"
      ]
     },
     "execution_count": 7,
     "metadata": {},
     "output_type": "execute_result"
    }
   ],
   "source": [
    "addresses[0][:100]"
   ]
  },
  {
   "cell_type": "code",
   "execution_count": 8,
   "metadata": {},
   "outputs": [],
   "source": [
    "addresses = addresses[:10]"
   ]
  },
  {
   "cell_type": "markdown",
   "metadata": {},
   "source": [
    "## Tokenize"
   ]
  },
  {
   "cell_type": "code",
   "execution_count": 9,
   "metadata": {},
   "outputs": [
    {
     "data": {
      "text/plain": [
       "['Fellow-Citizens',\n",
       " 'of',\n",
       " 'the',\n",
       " 'Senate',\n",
       " 'and',\n",
       " 'House',\n",
       " 'of',\n",
       " 'Representatives',\n",
       " ':',\n",
       " 'Since']"
      ]
     },
     "execution_count": 9,
     "metadata": {},
     "output_type": "execute_result"
    }
   ],
   "source": [
    "addresses_token = tokenize(addresses)\n",
    "addresses_token[0][:10]"
   ]
  },
  {
   "cell_type": "markdown",
   "metadata": {},
   "source": [
    "## Change to all lowercase"
   ]
  },
  {
   "cell_type": "code",
   "execution_count": 10,
   "metadata": {},
   "outputs": [
    {
     "data": {
      "text/plain": [
       "['fellow-citizens',\n",
       " 'of',\n",
       " 'the',\n",
       " 'senate',\n",
       " 'and',\n",
       " 'house',\n",
       " 'of',\n",
       " 'representatives',\n",
       " ':',\n",
       " 'since']"
      ]
     },
     "execution_count": 10,
     "metadata": {},
     "output_type": "execute_result"
    }
   ],
   "source": [
    "addresses_lower = to_lower(addresses_token)\n",
    "addresses_lower[0][:10]"
   ]
  },
  {
   "cell_type": "markdown",
   "metadata": {},
   "source": [
    "## Remove punctuation"
   ]
  },
  {
   "cell_type": "code",
   "execution_count": 11,
   "metadata": {},
   "outputs": [
    {
     "data": {
      "text/plain": [
       "['fellow-citizens',\n",
       " 'of',\n",
       " 'the',\n",
       " 'senate',\n",
       " 'and',\n",
       " 'house',\n",
       " 'of',\n",
       " 'representatives',\n",
       " 'since',\n",
       " 'your']"
      ]
     },
     "execution_count": 11,
     "metadata": {},
     "output_type": "execute_result"
    }
   ],
   "source": [
    "addresses_no_punct = remove_punct(addresses_lower)\n",
    "addresses_no_punct[0][:10]"
   ]
  },
  {
   "cell_type": "markdown",
   "metadata": {},
   "source": [
    "## Remove digits"
   ]
  },
  {
   "cell_type": "code",
   "execution_count": 12,
   "metadata": {},
   "outputs": [
    {
     "data": {
      "text/plain": [
       "[['this', 'is', '', 'a', 'test', '', 'if', 'it', 'works']]"
      ]
     },
     "execution_count": 12,
     "metadata": {},
     "output_type": "execute_result"
    }
   ],
   "source": [
    "remove_digits([['this', 'is', '3', 'a', 'test', '2c', 'if', 'it', 'works']])"
   ]
  },
  {
   "cell_type": "markdown",
   "metadata": {},
   "source": [
    "## Remove single characters and spaces"
   ]
  },
  {
   "cell_type": "code",
   "execution_count": 13,
   "metadata": {},
   "outputs": [
    {
     "data": {
      "text/plain": [
       "[['this', 'is', 'test']]"
      ]
     },
     "execution_count": 13,
     "metadata": {},
     "output_type": "execute_result"
    }
   ],
   "source": [
    "remove_single_char_and_spaces([['this', 'is', '   ', 'a', 'test', '   ', 'b']])"
   ]
  },
  {
   "cell_type": "markdown",
   "metadata": {},
   "source": [
    "## Remove stopwords"
   ]
  },
  {
   "cell_type": "code",
   "execution_count": 15,
   "metadata": {},
   "outputs": [
    {
     "data": {
      "text/plain": [
       "['fellow-citizens',\n",
       " 'senate',\n",
       " 'house',\n",
       " 'representatives',\n",
       " 'since',\n",
       " 'last',\n",
       " 'annual',\n",
       " 'assembling',\n",
       " 'another',\n",
       " 'year']"
      ]
     },
     "execution_count": 15,
     "metadata": {},
     "output_type": "execute_result"
    }
   ],
   "source": [
    "addresses_no_stop = remove_stopwords(addresses_no_punct)\n",
    "addresses_no_stop[0][:10]"
   ]
  },
  {
   "cell_type": "markdown",
   "metadata": {},
   "source": [
    "## Stem words"
   ]
  },
  {
   "cell_type": "code",
   "execution_count": 16,
   "metadata": {},
   "outputs": [
    {
     "data": {
      "text/plain": [
       "['fellow-citizens',\n",
       " 'sen',\n",
       " 'hous',\n",
       " 'repres',\n",
       " 'sint',\n",
       " 'last',\n",
       " 'an',\n",
       " 'assembl',\n",
       " 'anoth',\n",
       " 'year']"
      ]
     },
     "execution_count": 16,
     "metadata": {},
     "output_type": "execute_result"
    }
   ],
   "source": [
    "addresses_stemmed = stem(addresses_no_stop)\n",
    "addresses_stemmed[0][:10]"
   ]
  },
  {
   "cell_type": "markdown",
   "metadata": {},
   "source": [
    "## Lemmatize words"
   ]
  },
  {
   "cell_type": "code",
   "execution_count": 17,
   "metadata": {},
   "outputs": [
    {
     "data": {
      "text/plain": [
       "['fellow-citizens',\n",
       " 'senate',\n",
       " 'house',\n",
       " 'representative',\n",
       " 'since',\n",
       " 'last',\n",
       " 'annual',\n",
       " 'assembling',\n",
       " 'another',\n",
       " 'year']"
      ]
     },
     "execution_count": 17,
     "metadata": {},
     "output_type": "execute_result"
    }
   ],
   "source": [
    "addresses_lemmatized = lemmatize(addresses_no_stop)\n",
    "addresses_lemmatized[0][:10]"
   ]
  },
  {
   "cell_type": "markdown",
   "metadata": {},
   "source": [
    "## Convert back to a single string"
   ]
  },
  {
   "cell_type": "code",
   "execution_count": 18,
   "metadata": {},
   "outputs": [
    {
     "data": {
      "text/plain": [
       "'fellow-citizens senate house representative since last annual assembling another year health bountiful harvest passed pleased almighty bless u return peace press guided best light give u trusting good time wise way yet well correspondence touching foreign affair taken place last year herewith submitted virtual compliance request effect made house representative near close last session congress condition relation nation le gratifying usually former period certainly satisfactory nation unhappily distracted might reasonably apprehended month june last ground expect maritime power beginning domestic difficulty unwisely unnecessarily think recognized insurgent belligerent would soon recede position proved le injurious country temporary revers afterwards befell national arm exaggerated disloyal citizen abroad hitherto delayed act simple justice civil war radically changed moment occupation habit american people necessarily disturbed social condition affected deeply prosperity nation carried '"
      ]
     },
     "execution_count": 18,
     "metadata": {},
     "output_type": "execute_result"
    }
   ],
   "source": [
    "addresses_docs = bag_of_words_to_docs(addresses_lemmatized)\n",
    "addresses_docs_no_digits = bag_of_words_to_docs(remove_digits(addresses_lemmatized))\n",
    "addresses_docs[0][:1000]"
   ]
  },
  {
   "cell_type": "markdown",
   "metadata": {},
   "source": [
    "## Create a document-word frequency matrix"
   ]
  },
  {
   "cell_type": "code",
   "execution_count": 19,
   "metadata": {},
   "outputs": [
    {
     "data": {
      "text/html": [
       "<div>\n",
       "<style scoped>\n",
       "    .dataframe tbody tr th:only-of-type {\n",
       "        vertical-align: middle;\n",
       "    }\n",
       "\n",
       "    .dataframe tbody tr th {\n",
       "        vertical-align: top;\n",
       "    }\n",
       "\n",
       "    .dataframe thead th {\n",
       "        text-align: right;\n",
       "    }\n",
       "</style>\n",
       "<table border=\"1\" class=\"dataframe\">\n",
       "  <thead>\n",
       "    <tr style=\"text-align: right;\">\n",
       "      <th></th>\n",
       "      <th>000</th>\n",
       "      <th>002</th>\n",
       "      <th>003</th>\n",
       "      <th>007</th>\n",
       "      <th>009</th>\n",
       "      <th>01</th>\n",
       "      <th>011</th>\n",
       "      <th>015</th>\n",
       "      <th>018</th>\n",
       "      <th>019</th>\n",
       "      <th>...</th>\n",
       "      <th>yedo</th>\n",
       "      <th>yet</th>\n",
       "      <th>yield</th>\n",
       "      <th>yielded</th>\n",
       "      <th>yielding</th>\n",
       "      <th>york</th>\n",
       "      <th>young</th>\n",
       "      <th>zeal</th>\n",
       "      <th>zealous</th>\n",
       "      <th>zealously</th>\n",
       "    </tr>\n",
       "  </thead>\n",
       "  <tbody>\n",
       "    <tr>\n",
       "      <th>0</th>\n",
       "      <td>19</td>\n",
       "      <td>0</td>\n",
       "      <td>0</td>\n",
       "      <td>0</td>\n",
       "      <td>1</td>\n",
       "      <td>0</td>\n",
       "      <td>0</td>\n",
       "      <td>0</td>\n",
       "      <td>0</td>\n",
       "      <td>0</td>\n",
       "      <td>...</td>\n",
       "      <td>0</td>\n",
       "      <td>10</td>\n",
       "      <td>0</td>\n",
       "      <td>0</td>\n",
       "      <td>0</td>\n",
       "      <td>4</td>\n",
       "      <td>0</td>\n",
       "      <td>0</td>\n",
       "      <td>0</td>\n",
       "      <td>0</td>\n",
       "    </tr>\n",
       "    <tr>\n",
       "      <th>1</th>\n",
       "      <td>15</td>\n",
       "      <td>0</td>\n",
       "      <td>0</td>\n",
       "      <td>0</td>\n",
       "      <td>0</td>\n",
       "      <td>0</td>\n",
       "      <td>0</td>\n",
       "      <td>0</td>\n",
       "      <td>1</td>\n",
       "      <td>0</td>\n",
       "      <td>...</td>\n",
       "      <td>0</td>\n",
       "      <td>3</td>\n",
       "      <td>0</td>\n",
       "      <td>1</td>\n",
       "      <td>0</td>\n",
       "      <td>0</td>\n",
       "      <td>0</td>\n",
       "      <td>1</td>\n",
       "      <td>0</td>\n",
       "      <td>0</td>\n",
       "    </tr>\n",
       "    <tr>\n",
       "      <th>2</th>\n",
       "      <td>7</td>\n",
       "      <td>0</td>\n",
       "      <td>0</td>\n",
       "      <td>2</td>\n",
       "      <td>0</td>\n",
       "      <td>0</td>\n",
       "      <td>4</td>\n",
       "      <td>2</td>\n",
       "      <td>0</td>\n",
       "      <td>1</td>\n",
       "      <td>...</td>\n",
       "      <td>0</td>\n",
       "      <td>7</td>\n",
       "      <td>2</td>\n",
       "      <td>0</td>\n",
       "      <td>0</td>\n",
       "      <td>2</td>\n",
       "      <td>0</td>\n",
       "      <td>0</td>\n",
       "      <td>0</td>\n",
       "      <td>0</td>\n",
       "    </tr>\n",
       "    <tr>\n",
       "      <th>3</th>\n",
       "      <td>5</td>\n",
       "      <td>0</td>\n",
       "      <td>0</td>\n",
       "      <td>0</td>\n",
       "      <td>0</td>\n",
       "      <td>0</td>\n",
       "      <td>0</td>\n",
       "      <td>0</td>\n",
       "      <td>0</td>\n",
       "      <td>0</td>\n",
       "      <td>...</td>\n",
       "      <td>1</td>\n",
       "      <td>4</td>\n",
       "      <td>0</td>\n",
       "      <td>0</td>\n",
       "      <td>0</td>\n",
       "      <td>0</td>\n",
       "      <td>0</td>\n",
       "      <td>1</td>\n",
       "      <td>0</td>\n",
       "      <td>0</td>\n",
       "    </tr>\n",
       "    <tr>\n",
       "      <th>4</th>\n",
       "      <td>15</td>\n",
       "      <td>1</td>\n",
       "      <td>1</td>\n",
       "      <td>0</td>\n",
       "      <td>0</td>\n",
       "      <td>13</td>\n",
       "      <td>0</td>\n",
       "      <td>0</td>\n",
       "      <td>0</td>\n",
       "      <td>0</td>\n",
       "      <td>...</td>\n",
       "      <td>0</td>\n",
       "      <td>11</td>\n",
       "      <td>0</td>\n",
       "      <td>0</td>\n",
       "      <td>2</td>\n",
       "      <td>0</td>\n",
       "      <td>0</td>\n",
       "      <td>2</td>\n",
       "      <td>0</td>\n",
       "      <td>0</td>\n",
       "    </tr>\n",
       "  </tbody>\n",
       "</table>\n",
       "<p>5 rows × 5960 columns</p>\n",
       "</div>"
      ],
      "text/plain": [
       "   000  002  003  007  009  01  011  015  018  019  ...  yedo  yet  yield  \\\n",
       "0   19    0    0    0    1   0    0    0    0    0  ...     0   10      0   \n",
       "1   15    0    0    0    0   0    0    0    1    0  ...     0    3      0   \n",
       "2    7    0    0    2    0   0    4    2    0    1  ...     0    7      2   \n",
       "3    5    0    0    0    0   0    0    0    0    0  ...     1    4      0   \n",
       "4   15    1    1    0    0  13    0    0    0    0  ...     0   11      0   \n",
       "\n",
       "   yielded  yielding  york  young  zeal  zealous  zealously  \n",
       "0        0         0     4      0     0        0          0  \n",
       "1        1         0     0      0     1        0          0  \n",
       "2        0         0     2      0     0        0          0  \n",
       "3        0         0     0      0     1        0          0  \n",
       "4        0         2     0      0     2        0          0  \n",
       "\n",
       "[5 rows x 5960 columns]"
      ]
     },
     "execution_count": 19,
     "metadata": {},
     "output_type": "execute_result"
    }
   ],
   "source": [
    "create_doc_term_matrix(addresses_docs).head()"
   ]
  },
  {
   "cell_type": "markdown",
   "metadata": {},
   "source": [
    "## Create a TF-IDF matrix"
   ]
  },
  {
   "cell_type": "code",
   "execution_count": 20,
   "metadata": {},
   "outputs": [
    {
     "data": {
      "text/html": [
       "<div>\n",
       "<style scoped>\n",
       "    .dataframe tbody tr th:only-of-type {\n",
       "        vertical-align: middle;\n",
       "    }\n",
       "\n",
       "    .dataframe tbody tr th {\n",
       "        vertical-align: top;\n",
       "    }\n",
       "\n",
       "    .dataframe thead th {\n",
       "        text-align: right;\n",
       "    }\n",
       "</style>\n",
       "<table border=\"1\" class=\"dataframe\">\n",
       "  <thead>\n",
       "    <tr style=\"text-align: right;\">\n",
       "      <th></th>\n",
       "      <th>abandon</th>\n",
       "      <th>abandoned</th>\n",
       "      <th>abandonment</th>\n",
       "      <th>abdication</th>\n",
       "      <th>abhors</th>\n",
       "      <th>abide</th>\n",
       "      <th>abideth</th>\n",
       "      <th>ability</th>\n",
       "      <th>able</th>\n",
       "      <th>ably</th>\n",
       "      <th>...</th>\n",
       "      <th>yedo</th>\n",
       "      <th>yet</th>\n",
       "      <th>yield</th>\n",
       "      <th>yielded</th>\n",
       "      <th>yielding</th>\n",
       "      <th>york</th>\n",
       "      <th>young</th>\n",
       "      <th>zeal</th>\n",
       "      <th>zealous</th>\n",
       "      <th>zealously</th>\n",
       "    </tr>\n",
       "  </thead>\n",
       "  <tbody>\n",
       "    <tr>\n",
       "      <th>0</th>\n",
       "      <td>0.000000</td>\n",
       "      <td>0.0</td>\n",
       "      <td>0.000000</td>\n",
       "      <td>0.0</td>\n",
       "      <td>0.01238</td>\n",
       "      <td>0.010524</td>\n",
       "      <td>0.01238</td>\n",
       "      <td>0.000000</td>\n",
       "      <td>0.015040</td>\n",
       "      <td>0.000000</td>\n",
       "      <td>...</td>\n",
       "      <td>0.000000</td>\n",
       "      <td>0.045772</td>\n",
       "      <td>0.000000</td>\n",
       "      <td>0.000000</td>\n",
       "      <td>0.00000</td>\n",
       "      <td>0.032744</td>\n",
       "      <td>0.0</td>\n",
       "      <td>0.000000</td>\n",
       "      <td>0.0</td>\n",
       "      <td>0.0</td>\n",
       "    </tr>\n",
       "    <tr>\n",
       "      <th>1</th>\n",
       "      <td>0.000000</td>\n",
       "      <td>0.0</td>\n",
       "      <td>0.000000</td>\n",
       "      <td>0.0</td>\n",
       "      <td>0.00000</td>\n",
       "      <td>0.000000</td>\n",
       "      <td>0.00000</td>\n",
       "      <td>0.009630</td>\n",
       "      <td>0.013134</td>\n",
       "      <td>0.016217</td>\n",
       "      <td>...</td>\n",
       "      <td>0.000000</td>\n",
       "      <td>0.017987</td>\n",
       "      <td>0.000000</td>\n",
       "      <td>0.013786</td>\n",
       "      <td>0.00000</td>\n",
       "      <td>0.000000</td>\n",
       "      <td>0.0</td>\n",
       "      <td>0.009630</td>\n",
       "      <td>0.0</td>\n",
       "      <td>0.0</td>\n",
       "    </tr>\n",
       "    <tr>\n",
       "      <th>2</th>\n",
       "      <td>0.000000</td>\n",
       "      <td>0.0</td>\n",
       "      <td>0.015512</td>\n",
       "      <td>0.0</td>\n",
       "      <td>0.00000</td>\n",
       "      <td>0.000000</td>\n",
       "      <td>0.00000</td>\n",
       "      <td>0.000000</td>\n",
       "      <td>0.022168</td>\n",
       "      <td>0.000000</td>\n",
       "      <td>...</td>\n",
       "      <td>0.000000</td>\n",
       "      <td>0.047225</td>\n",
       "      <td>0.027142</td>\n",
       "      <td>0.000000</td>\n",
       "      <td>0.00000</td>\n",
       "      <td>0.024131</td>\n",
       "      <td>0.0</td>\n",
       "      <td>0.000000</td>\n",
       "      <td>0.0</td>\n",
       "      <td>0.0</td>\n",
       "    </tr>\n",
       "    <tr>\n",
       "      <th>3</th>\n",
       "      <td>0.012807</td>\n",
       "      <td>0.0</td>\n",
       "      <td>0.000000</td>\n",
       "      <td>0.0</td>\n",
       "      <td>0.00000</td>\n",
       "      <td>0.000000</td>\n",
       "      <td>0.00000</td>\n",
       "      <td>0.000000</td>\n",
       "      <td>0.006973</td>\n",
       "      <td>0.000000</td>\n",
       "      <td>...</td>\n",
       "      <td>0.017219</td>\n",
       "      <td>0.025465</td>\n",
       "      <td>0.000000</td>\n",
       "      <td>0.000000</td>\n",
       "      <td>0.00000</td>\n",
       "      <td>0.000000</td>\n",
       "      <td>0.0</td>\n",
       "      <td>0.010225</td>\n",
       "      <td>0.0</td>\n",
       "      <td>0.0</td>\n",
       "    </tr>\n",
       "    <tr>\n",
       "      <th>4</th>\n",
       "      <td>0.019567</td>\n",
       "      <td>0.0</td>\n",
       "      <td>0.000000</td>\n",
       "      <td>0.0</td>\n",
       "      <td>0.00000</td>\n",
       "      <td>0.007455</td>\n",
       "      <td>0.00000</td>\n",
       "      <td>0.010415</td>\n",
       "      <td>0.017757</td>\n",
       "      <td>0.000000</td>\n",
       "      <td>...</td>\n",
       "      <td>0.000000</td>\n",
       "      <td>0.035666</td>\n",
       "      <td>0.000000</td>\n",
       "      <td>0.000000</td>\n",
       "      <td>0.01491</td>\n",
       "      <td>0.000000</td>\n",
       "      <td>0.0</td>\n",
       "      <td>0.010415</td>\n",
       "      <td>0.0</td>\n",
       "      <td>0.0</td>\n",
       "    </tr>\n",
       "  </tbody>\n",
       "</table>\n",
       "<p>5 rows × 5449 columns</p>\n",
       "</div>"
      ],
      "text/plain": [
       "    abandon  abandoned  abandonment  abdication   abhors     abide  abideth  \\\n",
       "0  0.000000        0.0     0.000000         0.0  0.01238  0.010524  0.01238   \n",
       "1  0.000000        0.0     0.000000         0.0  0.00000  0.000000  0.00000   \n",
       "2  0.000000        0.0     0.015512         0.0  0.00000  0.000000  0.00000   \n",
       "3  0.012807        0.0     0.000000         0.0  0.00000  0.000000  0.00000   \n",
       "4  0.019567        0.0     0.000000         0.0  0.00000  0.007455  0.00000   \n",
       "\n",
       "    ability      able      ably  ...      yedo       yet     yield   yielded  \\\n",
       "0  0.000000  0.015040  0.000000  ...  0.000000  0.045772  0.000000  0.000000   \n",
       "1  0.009630  0.013134  0.016217  ...  0.000000  0.017987  0.000000  0.013786   \n",
       "2  0.000000  0.022168  0.000000  ...  0.000000  0.047225  0.027142  0.000000   \n",
       "3  0.000000  0.006973  0.000000  ...  0.017219  0.025465  0.000000  0.000000   \n",
       "4  0.010415  0.017757  0.000000  ...  0.000000  0.035666  0.000000  0.000000   \n",
       "\n",
       "   yielding      york  young      zeal  zealous  zealously  \n",
       "0   0.00000  0.032744    0.0  0.000000      0.0        0.0  \n",
       "1   0.00000  0.000000    0.0  0.009630      0.0        0.0  \n",
       "2   0.00000  0.024131    0.0  0.000000      0.0        0.0  \n",
       "3   0.00000  0.000000    0.0  0.010225      0.0        0.0  \n",
       "4   0.01491  0.000000    0.0  0.010415      0.0        0.0  \n",
       "\n",
       "[5 rows x 5449 columns]"
      ]
     },
     "execution_count": 20,
     "metadata": {},
     "output_type": "execute_result"
    }
   ],
   "source": [
    "create_tfidf_matrix(addresses_docs_no_digits).head()"
   ]
  },
  {
   "cell_type": "markdown",
   "metadata": {},
   "source": [
    "## Run a full preprocessing pipeline in one line"
   ]
  },
  {
   "cell_type": "code",
   "execution_count": 21,
   "metadata": {},
   "outputs": [
    {
     "data": {
      "text/plain": [
       "'fellow-citizens senate house representative since last annual assembling another year health bountiful harvest passed pleased almighty bless u return peace press guided best light give u trusting good time wise way yet well correspondence touching foreign affair taken place last year herewith submitted virtual compliance request effect made house representative near close last session congress condition relation nation le gratifying usually former period certainly satisfactory nation unhappily distracted might reasonably apprehended month june last ground expect maritime power beginning domestic difficulty unwisely unnecessarily think recognized insurgent belligerent would soon recede position proved le injurious country temporary revers afterwards befell national arm exaggerated disloyal citizen abroad hitherto delayed act simple justice civil war radically changed moment occupation habit american people necessarily disturbed social condition affected deeply prosperity nation carried '"
      ]
     },
     "execution_count": 21,
     "metadata": {},
     "output_type": "execute_result"
    }
   ],
   "source": [
    "bag_of_words_to_docs(preprocess_texts(addresses, lem=True))[0][:1000]"
   ]
  },
  {
   "cell_type": "markdown",
   "metadata": {},
   "source": [
    "## Create ngrams"
   ]
  },
  {
   "cell_type": "code",
   "execution_count": 22,
   "metadata": {},
   "outputs": [
    {
     "data": {
      "text/plain": [
       "[('Fellow-Citizens', 'of', 'the', 'Senate'),\n",
       " ('of', 'the', 'Senate', 'and'),\n",
       " ('the', 'Senate', 'and', 'House'),\n",
       " ('Senate', 'and', 'House', 'of'),\n",
       " ('and', 'House', 'of', 'Representatives'),\n",
       " ('House', 'of', 'Representatives', ':'),\n",
       " ('of', 'Representatives', ':', 'Since'),\n",
       " ('Representatives', ':', 'Since', 'your'),\n",
       " (':', 'Since', 'your', 'last'),\n",
       " ('Since', 'your', 'last', 'annual')]"
      ]
     },
     "execution_count": 22,
     "metadata": {},
     "output_type": "execute_result"
    }
   ],
   "source": [
    "n_grams = create_ngrams(addresses, 4)\n",
    "n_grams[:10]"
   ]
  }
 ],
 "metadata": {
  "kernelspec": {
   "display_name": "Python 3",
   "language": "python",
   "name": "python3"
  },
  "language_info": {
   "codemirror_mode": {
    "name": "ipython",
    "version": 3
   },
   "file_extension": ".py",
   "mimetype": "text/x-python",
   "name": "python",
   "nbconvert_exporter": "python",
   "pygments_lexer": "ipython3",
   "version": "3.7.3"
  }
 },
 "nbformat": 4,
 "nbformat_minor": 2
}
